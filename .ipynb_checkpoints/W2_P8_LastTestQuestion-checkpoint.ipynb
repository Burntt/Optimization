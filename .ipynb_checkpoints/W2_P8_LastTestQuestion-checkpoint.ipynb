{
 "cells": [
  {
   "cell_type": "code",
   "execution_count": 1,
   "metadata": {},
   "outputs": [],
   "source": [
    "import numpy as np\n",
    "import math\n",
    "from math import exp, cos"
   ]
  },
  {
   "cell_type": "code",
   "execution_count": 2,
   "metadata": {},
   "outputs": [],
   "source": [
    "def norm(x):\n",
    "    return sqrt(sum(t**2 for t in x))\n",
    "\n",
    "def sqrnorm(x):\n",
    "    return sum(t**2 for t in x)\n",
    "\n",
    "def L2norm(vector):\n",
    "    sumsquares = np.sum(np.power(vector,2))\n",
    "    return sumsquares**(0.5)"
   ]
  },
  {
   "cell_type": "code",
   "execution_count": 3,
   "metadata": {},
   "outputs": [],
   "source": [
    "def approximate_gradient(new_f, x, n, gamma, valf=None):\n",
    "    if valf is None:\n",
    "        valf = new_f(x)\n",
    "    grad_approx = np.array([-valf]*n)\n",
    "    for j in range(n):\n",
    "        grad_approx[j] += new_f(x[:j] + [x[j]+gamma] + x[j+1:])\n",
    "        grad_approx[j] /= gamma\n",
    "    return (np.array(grad_approx), valf)"
   ]
  },
  {
   "cell_type": "code",
   "execution_count": 4,
   "metadata": {},
   "outputs": [],
   "source": [
    "def armijo(f, grad_approx, x, c, alpha, stepdir):\n",
    "    return (\n",
    "        f(np.array(x - alpha*stepdir)) < f(x) - c * alpha*( np.dot(stepdir, grad_approx) )\n",
    "    )"
   ]
  },
  {
   "cell_type": "code",
   "execution_count": 5,
   "metadata": {},
   "outputs": [],
   "source": [
    "def optimizer(f, initial, tolerance, max_iter, c, c1 ,c2, c3):\n",
    "    x_current = initial\n",
    "    n = len(initial)\n",
    "    acc_x = np.array([0]*len(initial))\n",
    "    \n",
    "    iteration = 0\n",
    "    for i in range(max_iter):\n",
    "        \n",
    "        gamma = tol/(i+1)**2\n",
    "               \n",
    "        grad_approx, valf = approximate_gradient(\n",
    "            new_f, \n",
    "            x_current, \n",
    "            n,\n",
    "            gamma\n",
    "        )\n",
    "        \n",
    "        alpha = 1\n",
    "        \n",
    "        alpha_inc = c3\n",
    "        \n",
    "        stepdir = c1*acc_x + c2*grad_approx\n",
    "        \n",
    "        while armijo(f, grad_approx, x_current, c, alpha * 1.5, stepdir):\n",
    "            alpha *= (1 + alpha_inc)\n",
    "        max_iter_armijo = 100\n",
    "        cur_iter_armijo = 0\n",
    "        while not armijo(f, grad_approx, x_current, c, alpha, stepdir):\n",
    "            alpha *= 1 - alpha_inc        \n",
    "            cur_iter_armijo += 1\n",
    "            if cur_iter_armijo > max_iter_armijo:\n",
    "                return x_current\n",
    "              \n",
    "        x_next = list(x_current - alpha * stepdir)\n",
    "        x_current = x_next   \n",
    "        \n",
    "        acc_x = stepdir\n",
    "        iteration = iteration + 1\n",
    "        \n",
    "        #print(alpha, grad_approx)\n",
    "        \n",
    "    return list(x_current)"
   ]
  },
  {
   "cell_type": "markdown",
   "metadata": {},
   "source": [
    "# Enter sample input"
   ]
  },
  {
   "cell_type": "code",
   "execution_count": 6,
   "metadata": {},
   "outputs": [],
   "source": [
    "import math"
   ]
  },
  {
   "cell_type": "code",
   "execution_count": 7,
   "metadata": {},
   "outputs": [],
   "source": [
    "def new_f(x):\n",
    "    return ( f( x[0], x[1] )**2 + g( x[0], x[1] ) )**2"
   ]
  },
  {
   "cell_type": "code",
   "execution_count": 8,
   "metadata": {},
   "outputs": [
    {
     "ename": "TypeError",
     "evalue": "<lambda>() missing 1 required positional argument: 'y'",
     "output_type": "error",
     "traceback": [
      "\u001b[0;31m---------------------------------------------------------------------------\u001b[0m",
      "\u001b[0;31mTypeError\u001b[0m                                 Traceback (most recent call last)",
      "\u001b[0;32m<ipython-input-8-1e6689278f0c>\u001b[0m in \u001b[0;36m<module>\u001b[0;34m\u001b[0m\n\u001b[1;32m     10\u001b[0m \u001b[0mc\u001b[0m \u001b[0;34m,\u001b[0m \u001b[0mc1\u001b[0m \u001b[0;34m,\u001b[0m \u001b[0mc2\u001b[0m\u001b[0;34m,\u001b[0m \u001b[0mc3\u001b[0m \u001b[0;34m=\u001b[0m  \u001b[0;34m[\u001b[0m\u001b[0;36m0.1\u001b[0m\u001b[0;34m,\u001b[0m \u001b[0;36m0.98\u001b[0m\u001b[0;34m,\u001b[0m \u001b[0;36m0.6000000000000001\u001b[0m\u001b[0;34m,\u001b[0m \u001b[0;36m0.46\u001b[0m\u001b[0;34m]\u001b[0m\u001b[0;34m\u001b[0m\u001b[0;34m\u001b[0m\u001b[0m\n\u001b[1;32m     11\u001b[0m \u001b[0;34m\u001b[0m\u001b[0m\n\u001b[0;32m---> 12\u001b[0;31m \u001b[0msol1\u001b[0m \u001b[0;34m=\u001b[0m \u001b[0moptimizer\u001b[0m\u001b[0;34m(\u001b[0m\u001b[0mnew_f\u001b[0m\u001b[0;34m,\u001b[0m \u001b[0minitial\u001b[0m\u001b[0;34m,\u001b[0m \u001b[0mtol\u001b[0m\u001b[0;34m,\u001b[0m \u001b[0mmax_iter\u001b[0m\u001b[0;34m=\u001b[0m\u001b[0;36m100000\u001b[0m\u001b[0;34m,\u001b[0m \u001b[0mc\u001b[0m \u001b[0;34m=\u001b[0m \u001b[0mc\u001b[0m\u001b[0;34m,\u001b[0m \u001b[0mc1\u001b[0m \u001b[0;34m=\u001b[0m \u001b[0mc1\u001b[0m \u001b[0;34m,\u001b[0m \u001b[0mc2\u001b[0m \u001b[0;34m=\u001b[0m \u001b[0mc2\u001b[0m\u001b[0;34m,\u001b[0m \u001b[0mc3\u001b[0m \u001b[0;34m=\u001b[0m \u001b[0mc3\u001b[0m\u001b[0;34m)\u001b[0m\u001b[0;34m\u001b[0m\u001b[0;34m\u001b[0m\u001b[0m\n\u001b[0m\u001b[1;32m     13\u001b[0m \u001b[0mfinal_coord_vec1\u001b[0m \u001b[0;34m=\u001b[0m \u001b[0;34m[\u001b[0m\u001b[0;36m1.1869509\u001b[0m\u001b[0;34m,\u001b[0m \u001b[0;34m-\u001b[0m\u001b[0;36m0.8822584\u001b[0m\u001b[0;34m]\u001b[0m\u001b[0;34m\u001b[0m\u001b[0;34m\u001b[0m\u001b[0m\n\u001b[1;32m     14\u001b[0m \u001b[0;34m\u001b[0m\u001b[0m\n",
      "\u001b[0;32m<ipython-input-5-eea2fb0d7d28>\u001b[0m in \u001b[0;36moptimizer\u001b[0;34m(new_f, initial, tolerance, max_iter, c, c1, c2, c3)\u001b[0m\n\u001b[1;32m     23\u001b[0m         \u001b[0mstepdir\u001b[0m \u001b[0;34m=\u001b[0m \u001b[0mc1\u001b[0m\u001b[0;34m*\u001b[0m\u001b[0macc_x\u001b[0m \u001b[0;34m+\u001b[0m \u001b[0mc2\u001b[0m\u001b[0;34m*\u001b[0m\u001b[0mgrad_approx\u001b[0m\u001b[0;34m\u001b[0m\u001b[0;34m\u001b[0m\u001b[0m\n\u001b[1;32m     24\u001b[0m \u001b[0;34m\u001b[0m\u001b[0m\n\u001b[0;32m---> 25\u001b[0;31m         \u001b[0;32mwhile\u001b[0m \u001b[0marmijo\u001b[0m\u001b[0;34m(\u001b[0m\u001b[0mf\u001b[0m\u001b[0;34m,\u001b[0m \u001b[0mgrad_approx\u001b[0m\u001b[0;34m,\u001b[0m \u001b[0mx_current\u001b[0m\u001b[0;34m,\u001b[0m \u001b[0mc\u001b[0m\u001b[0;34m,\u001b[0m \u001b[0malpha\u001b[0m \u001b[0;34m*\u001b[0m \u001b[0;36m1.5\u001b[0m\u001b[0;34m,\u001b[0m \u001b[0mstepdir\u001b[0m\u001b[0;34m)\u001b[0m\u001b[0;34m:\u001b[0m\u001b[0;34m\u001b[0m\u001b[0;34m\u001b[0m\u001b[0m\n\u001b[0m\u001b[1;32m     26\u001b[0m             \u001b[0malpha\u001b[0m \u001b[0;34m*=\u001b[0m \u001b[0;34m(\u001b[0m\u001b[0;36m1\u001b[0m \u001b[0;34m+\u001b[0m \u001b[0malpha_inc\u001b[0m\u001b[0;34m)\u001b[0m\u001b[0;34m\u001b[0m\u001b[0;34m\u001b[0m\u001b[0m\n\u001b[1;32m     27\u001b[0m         \u001b[0mmax_iter_armijo\u001b[0m \u001b[0;34m=\u001b[0m \u001b[0;36m100\u001b[0m\u001b[0;34m\u001b[0m\u001b[0;34m\u001b[0m\u001b[0m\n",
      "\u001b[0;32m<ipython-input-4-9a0fe1baf5f4>\u001b[0m in \u001b[0;36marmijo\u001b[0;34m(new_f, grad_approx, x, c, alpha, stepdir)\u001b[0m\n\u001b[1;32m      1\u001b[0m \u001b[0;32mdef\u001b[0m \u001b[0marmijo\u001b[0m\u001b[0;34m(\u001b[0m\u001b[0mnew_f\u001b[0m\u001b[0;34m,\u001b[0m \u001b[0mgrad_approx\u001b[0m\u001b[0;34m,\u001b[0m \u001b[0mx\u001b[0m\u001b[0;34m,\u001b[0m \u001b[0mc\u001b[0m\u001b[0;34m,\u001b[0m \u001b[0malpha\u001b[0m\u001b[0;34m,\u001b[0m \u001b[0mstepdir\u001b[0m\u001b[0;34m)\u001b[0m\u001b[0;34m:\u001b[0m\u001b[0;34m\u001b[0m\u001b[0;34m\u001b[0m\u001b[0m\n\u001b[1;32m      2\u001b[0m     return (\n\u001b[0;32m----> 3\u001b[0;31m         \u001b[0mnew_f\u001b[0m\u001b[0;34m(\u001b[0m\u001b[0mnp\u001b[0m\u001b[0;34m.\u001b[0m\u001b[0marray\u001b[0m\u001b[0;34m(\u001b[0m\u001b[0mx\u001b[0m \u001b[0;34m-\u001b[0m \u001b[0malpha\u001b[0m\u001b[0;34m*\u001b[0m\u001b[0mstepdir\u001b[0m\u001b[0;34m)\u001b[0m\u001b[0;34m)\u001b[0m \u001b[0;34m<\u001b[0m \u001b[0mnew_f\u001b[0m\u001b[0;34m(\u001b[0m\u001b[0mx\u001b[0m\u001b[0;34m)\u001b[0m \u001b[0;34m-\u001b[0m \u001b[0mc\u001b[0m \u001b[0;34m*\u001b[0m \u001b[0malpha\u001b[0m\u001b[0;34m*\u001b[0m\u001b[0;34m(\u001b[0m \u001b[0mnp\u001b[0m\u001b[0;34m.\u001b[0m\u001b[0mdot\u001b[0m\u001b[0;34m(\u001b[0m\u001b[0mstepdir\u001b[0m\u001b[0;34m,\u001b[0m \u001b[0mgrad_approx\u001b[0m\u001b[0;34m)\u001b[0m \u001b[0;34m)\u001b[0m\u001b[0;34m\u001b[0m\u001b[0;34m\u001b[0m\u001b[0m\n\u001b[0m\u001b[1;32m      4\u001b[0m     )\n",
      "\u001b[0;31mTypeError\u001b[0m: <lambda>() missing 1 required positional argument: 'y'"
     ]
    }
   ],
   "source": [
    "from math import sin, cos\n",
    "tol = 0.0001\n",
    "x_init = 1.0 \n",
    "y_init = -1.0\n",
    "f = lambda x, y: cos(x*y)-0.5\n",
    "g = lambda x, y: sin(x+y)-0.3\n",
    "\n",
    "initial = [x_init, y_init]\n",
    "\n",
    "c , c1 , c2, c3 =  [0.1, 0.98, 0.6000000000000001, 0.46]\n",
    "\n",
    "sol1 = optimizer(new_f, initial, tol, max_iter=100000, c = c, c1 = c1 , c2 = c2, c3 = c3) \n",
    "final_coord_vec1 = [1.1869509, -0.8822584]\n",
    "\n",
    "print('actual:', sol1)\n",
    "print('desired', final_coord_vec1)"
   ]
  },
  {
   "cell_type": "code",
   "execution_count": null,
   "metadata": {},
   "outputs": [],
   "source": [
    "f(0,0)"
   ]
  },
  {
   "cell_type": "code",
   "execution_count": null,
   "metadata": {},
   "outputs": [],
   "source": [
    "from math import exp, cos\n",
    "tol = 0.0001\n",
    "x_init = -3.0 \n",
    "y_init = 3.0\n",
    "f = lambda x, y: exp(x) - cos(y)\n",
    "g = lambda x, y: x + y + exp(x+y) - 10\n",
    "\n",
    "initial = [x_init, y_init]\n",
    "\n",
    "c , c1 , c2, c3 =  [0.03333333333333333, 0.9, 0.9333333333333333, 0.4916666666666667]\n",
    "\n",
    "sol2 = optimizer(new_f, initial, tol, max_iter=100000, c = c, c1 = c1 , c2 = c2, c3 = c3) \n",
    "final_coord_vec2 = [-2.7084955, 4.7790754]\n",
    "\n",
    "print('actual:', sol2)\n",
    "print('desired', final_coord_vec2)"
   ]
  },
  {
   "cell_type": "code",
   "execution_count": null,
   "metadata": {},
   "outputs": [],
   "source": [
    "f(0,0)"
   ]
  },
  {
   "cell_type": "markdown",
   "metadata": {},
   "source": [
    "# Optimization for hyperparameters"
   ]
  },
  {
   "cell_type": "code",
   "execution_count": null,
   "metadata": {},
   "outputs": [],
   "source": [
    "\n",
    "# print('The final coordinates the your require for optimization are:')\n",
    "\n",
    "final_coord_vec = [1.1869509, -0.8822584]\n",
    "#final_coord_vec = [-2.7084955, 4.7790754]\n",
    "\n",
    "#Other settings for hyperparameter optimization\n",
    "div = 10\n",
    "iter_max = 100\n",
    "\n",
    "from itertools import product\n",
    "\n",
    "c = np.linspace(0, 1, div, endpoint=False)[1:]\n",
    "c1 = np.linspace(0, 1, endpoint=False)[1:]\n",
    "c2 = np.linspace(0, 1, div, endpoint=False)[1:]\n",
    "c3 = np.linspace(0.45, 0.5, div, endpoint=False)[1:]\n",
    "\n",
    "n_ele = len(c)*len(c1)*len(c2)\n",
    "vec_hyperpara = []\n",
    "for c, c1, c2, c3 in product(c, c1, c2, c3):\n",
    "    vec_hyperpara.append([c, c1, c2, c3])\n",
    "    \n",
    "list_of_error = []\n",
    "list_of_norm = []\n",
    "for p in range(n_ele):\n",
    "    c_init, c1_init, c2_init, c3_init = vec_hyperpara[p]  \n",
    "    sol = optimizer(new_f, initial, tol, max_iter = iter_max, c = c_init, c1 = c1_init, c2 = c2_init, c3 = c3_init)\n",
    "    list_of_error.append( list(np.array(sol) - final_coord_vec) )\n",
    "    list_of_norm.append( L2norm(list_of_error[p]) )\n",
    "minpos = list_of_norm.index(min(list_of_norm))\n",
    "best_hyperpara = vec_hyperpara[minpos]\n",
    "\n",
    "print('best hyperparameters || c , c1 , c2, c3 = ', best_hyperpara)\n"
   ]
  },
  {
   "cell_type": "markdown",
   "metadata": {},
   "source": [
    "# Print final solution"
   ]
  },
  {
   "cell_type": "code",
   "execution_count": null,
   "metadata": {},
   "outputs": [],
   "source": [
    "from math import sin, cos\n",
    "tol = 0.0001\n",
    "x_init = 1.0 \n",
    "y_init = -1.0\n",
    "f = lambda x, y: cos(x*y)-0.5\n",
    "g = lambda x, y: sin(x+y)-0.3"
   ]
  }
 ],
 "metadata": {
  "kernelspec": {
   "display_name": "python3",
   "language": "python",
   "name": "python3"
  },
  "language_info": {
   "codemirror_mode": {
    "name": "ipython",
    "version": 3
   },
   "file_extension": ".py",
   "mimetype": "text/x-python",
   "name": "python",
   "nbconvert_exporter": "python",
   "pygments_lexer": "ipython3",
   "version": "3.8.5"
  }
 },
 "nbformat": 4,
 "nbformat_minor": 4
}
