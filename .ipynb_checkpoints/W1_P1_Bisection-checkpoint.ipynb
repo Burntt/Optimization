{
 "cells": [
  {
   "cell_type": "code",
   "execution_count": 1,
   "metadata": {},
   "outputs": [],
   "source": [
    "from math import sin\n",
    "a = 3.\n",
    "b = 4.\n",
    "tol = 0.00001\n",
    "f = sin"
   ]
  },
  {
   "cell_type": "code",
   "execution_count": 2,
   "metadata": {},
   "outputs": [
    {
     "name": "stdout",
     "output_type": "stream",
     "text": [
      "3.1415863037109375\n"
     ]
    }
   ],
   "source": [
    "def bisection_method(a, b, tol):\n",
    "    if f(a)*f(b) > 0:\n",
    "        print(\"No x crossing\")\n",
    "    else:\n",
    "        while (b - a)/2.0 > tol:\n",
    "            midpoint = (a + b)/2.0\n",
    "            if f(midpoint) == 0:\n",
    "                return(midpoint)             \n",
    "            elif f(a)*f(midpoint) < 0:       \n",
    "                b = midpoint\n",
    "            else:\n",
    "                a = midpoint\n",
    "        return(midpoint)\n",
    "    \n",
    "answer = bisection_method(a, b, tol)\n",
    "print(answer)"
   ]
  }
 ],
 "metadata": {
  "kernelspec": {
   "display_name": "python3",
   "language": "python",
   "name": "python3"
  },
  "language_info": {
   "codemirror_mode": {
    "name": "ipython",
    "version": 3
   },
   "file_extension": ".py",
   "mimetype": "text/x-python",
   "name": "python",
   "nbconvert_exporter": "python",
   "pygments_lexer": "ipython3",
   "version": "3.8.5"
  }
 },
 "nbformat": 4,
 "nbformat_minor": 4
}
