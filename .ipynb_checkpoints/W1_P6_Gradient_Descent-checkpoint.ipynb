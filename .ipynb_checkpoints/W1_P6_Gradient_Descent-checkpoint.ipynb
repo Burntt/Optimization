{
 "cells": [
  {
   "cell_type": "code",
   "execution_count": 151,
   "metadata": {},
   "outputs": [],
   "source": [
    "import numpy as np"
   ]
  },
  {
   "cell_type": "code",
   "execution_count": 152,
   "metadata": {},
   "outputs": [],
   "source": [
    "import numpy as np"
   ]
  },
  {
   "cell_type": "code",
   "execution_count": 153,
   "metadata": {
    "scrolled": false
   },
   "outputs": [],
   "source": [
    "import numpy as np\n",
    "\n",
    "np.finfo(np.double).precision\n",
    "\n",
    "def L2norm(vector):\n",
    "    sumsquares = np.sum(np.power(vector,2))\n",
    "    return sumsquares**(0.5)\n",
    "\n",
    "def gradf(f, point, h):\n",
    "    if valf is None:\n",
    "        valf = f(x)\n",
    "    grad_approx = [-valf for j in range(n)]\n",
    "    for j in range(n):\n",
    "        \n",
    "        print('input is:', x[:j] + [x[j]+gamma] + x[j+1:] )\n",
    "\n",
    "        grad_approx[j] += f(x[:j] + [x[j]+gamma] + x[j+1:])\n",
    "        grad_approx[j] /= gamma\n",
    "    return (grad_approx, valf)\n",
    "\n",
    "def arm_cond1(point, c, alpha, gradf, stepdir, fx1x2):  \n",
    "    term1 = fx1x2\n",
    "    term2 = f(*(point - alpha*stepdir))\n",
    "    term3 = c*alpha*( np.dot(stepdir, gradf) )  \n",
    "    return term1 - term2 - term3\n",
    "\n",
    "def arm_cond2(point, c, alpha, beta, gradf, stepdir, fx1x2):\n",
    "    term1 = fx1x2    \n",
    "    term2 = f(*(point - beta**(-1)*alpha*stepdir))  \n",
    "    term3 = c*beta**(-1)*alpha*( np.dot(stepdir, gradf) )\n",
    "    return term1 - term2 - term3\n",
    "\n",
    "def min_banana(f, initial, tol):\n",
    "    # tolerance for derivative finding\n",
    "    h = tol\n",
    "    c = 0.01\n",
    "    beta = 1/3.0\n",
    "    zeta = 0.9\n",
    "    \n",
    "    #Actual code\n",
    "    point_old = np.array(initial)\n",
    "    acc_x = np.array([0]*len(initial))\n",
    "    \n",
    "    max_its = 1000\n",
    "    \n",
    "    iteration = 0\n",
    "    \n",
    "    for i in range(max_its):\n",
    "        \n",
    "        h = tol/(i+1)\n",
    "          \n",
    "        alpha = 1\n",
    "        \n",
    "        gradf_old, fx1x2 = gradf(f, point_old, h)\n",
    "        \n",
    "        stepdir = 0.9*acc_x + 0.8*gradf_old\n",
    "        \n",
    "        while ( arm_cond2(point_old, c, alpha, beta, gradf_old, stepdir, fx1x2) >= 0):\n",
    "            alpha = alpha/beta \n",
    "            \n",
    "        while ( arm_cond1(point_old, c, alpha, gradf_old, stepdir, fx1x2) < 0):\n",
    "            alpha = alpha * beta\n",
    "        \n",
    "        #Pick which step to use\n",
    "        #step = gradf_old\n",
    "            \n",
    "#         if i > max_its-20:      \n",
    "#             print(' step', stepdir)\n",
    "#             print('alpha', alpha)\n",
    "        \n",
    "        #Update rule\n",
    "        point_curr = point_old - alpha*stepdir\n",
    "        point_old = point_curr \n",
    "        \n",
    "        acc_x = stepdir\n",
    "        \n",
    "        iteration = iteration + 1\n",
    "        \n",
    "        #Reduce iterations when\n",
    "        #if norm of grad < highest order  - 1  of original function\n",
    "        #print('REDUCE ITS')\n",
    "        \n",
    "    return point_curr, iteration\n"
   ]
  },
  {
   "cell_type": "code",
   "execution_count": 154,
   "metadata": {
    "scrolled": false
   },
   "outputs": [],
   "source": [
    "def fx1x2(x1, x2): \n",
    "    p = 1\n",
    "    q = 10\n",
    "    return (p-x1)**2+q*(x2-x1**2)**2\n",
    "\n",
    "def f(x):\n",
    "    return fx1x2(x[0], x[1])\n",
    "\n",
    "tol = 0.00001\n",
    "initial = (0., 0.)\n",
    "\n",
    "initial = list(initial)"
   ]
  },
  {
   "cell_type": "code",
   "execution_count": 155,
   "metadata": {
    "scrolled": false
   },
   "outputs": [
    {
     "ename": "TypeError",
     "evalue": "f() takes 1 positional argument but 2 were given",
     "output_type": "error",
     "traceback": [
      "\u001b[0;31m---------------------------------------------------------------------------\u001b[0m",
      "\u001b[0;31mTypeError\u001b[0m                                 Traceback (most recent call last)",
      "\u001b[0;32m<ipython-input-155-699b58071d31>\u001b[0m in \u001b[0;36m<module>\u001b[0;34m\u001b[0m\n\u001b[0;32m----> 1\u001b[0;31m \u001b[0mresult\u001b[0m\u001b[0;34m,\u001b[0m\u001b[0miteration\u001b[0m \u001b[0;34m=\u001b[0m \u001b[0mmin_banana\u001b[0m\u001b[0;34m(\u001b[0m\u001b[0mf\u001b[0m\u001b[0;34m,\u001b[0m \u001b[0minitial\u001b[0m\u001b[0;34m,\u001b[0m \u001b[0mtol\u001b[0m\u001b[0;34m)\u001b[0m\u001b[0;34m\u001b[0m\u001b[0;34m\u001b[0m\u001b[0m\n\u001b[0m\u001b[1;32m      2\u001b[0m \u001b[0mprint\u001b[0m\u001b[0;34m(\u001b[0m\u001b[0mresult\u001b[0m\u001b[0;34m[\u001b[0m\u001b[0;36m0\u001b[0m\u001b[0;34m]\u001b[0m\u001b[0;34m,\u001b[0m \u001b[0mresult\u001b[0m\u001b[0;34m[\u001b[0m\u001b[0;36m1\u001b[0m\u001b[0;34m]\u001b[0m\u001b[0;34m)\u001b[0m\u001b[0;34m\u001b[0m\u001b[0;34m\u001b[0m\u001b[0m\n\u001b[1;32m      3\u001b[0m \u001b[0mprint\u001b[0m\u001b[0;34m(\u001b[0m\u001b[0miteration\u001b[0m\u001b[0;34m)\u001b[0m\u001b[0;34m\u001b[0m\u001b[0;34m\u001b[0m\u001b[0m\n\u001b[1;32m      4\u001b[0m \u001b[0;34m\u001b[0m\u001b[0m\n\u001b[1;32m      5\u001b[0m \u001b[0;31m# Hyperparamterize c in range() , np linspace etc to test for the best hyperparameters\u001b[0m\u001b[0;34m\u001b[0m\u001b[0;34m\u001b[0m\u001b[0;34m\u001b[0m\u001b[0m\n",
      "\u001b[0;32m<ipython-input-153-fe5b4f360277>\u001b[0m in \u001b[0;36mmin_banana\u001b[0;34m(f, initial, tol)\u001b[0m\n\u001b[1;32m     52\u001b[0m         \u001b[0malpha\u001b[0m \u001b[0;34m=\u001b[0m \u001b[0;36m1\u001b[0m\u001b[0;34m\u001b[0m\u001b[0;34m\u001b[0m\u001b[0m\n\u001b[1;32m     53\u001b[0m \u001b[0;34m\u001b[0m\u001b[0m\n\u001b[0;32m---> 54\u001b[0;31m         \u001b[0mgradf_old\u001b[0m\u001b[0;34m,\u001b[0m \u001b[0mfx1x2\u001b[0m \u001b[0;34m=\u001b[0m \u001b[0mgradf\u001b[0m\u001b[0;34m(\u001b[0m\u001b[0mf\u001b[0m\u001b[0;34m,\u001b[0m \u001b[0mpoint_old\u001b[0m\u001b[0;34m,\u001b[0m \u001b[0mh\u001b[0m\u001b[0;34m)\u001b[0m\u001b[0;34m\u001b[0m\u001b[0;34m\u001b[0m\u001b[0m\n\u001b[0m\u001b[1;32m     55\u001b[0m \u001b[0;34m\u001b[0m\u001b[0m\n\u001b[1;32m     56\u001b[0m         \u001b[0mstepdir\u001b[0m \u001b[0;34m=\u001b[0m \u001b[0;36m0.9\u001b[0m\u001b[0;34m*\u001b[0m\u001b[0macc_x\u001b[0m \u001b[0;34m+\u001b[0m \u001b[0;36m0.8\u001b[0m\u001b[0;34m*\u001b[0m\u001b[0mgradf_old\u001b[0m\u001b[0;34m\u001b[0m\u001b[0;34m\u001b[0m\u001b[0m\n",
      "\u001b[0;32m<ipython-input-153-fe5b4f360277>\u001b[0m in \u001b[0;36mgradf\u001b[0;34m(f, point, h)\u001b[0m\n\u001b[1;32m     12\u001b[0m \u001b[0;34m\u001b[0m\u001b[0m\n\u001b[1;32m     13\u001b[0m     \u001b[0mfx1x2\u001b[0m \u001b[0;34m=\u001b[0m \u001b[0mf\u001b[0m\u001b[0;34m(\u001b[0m\u001b[0mpoint\u001b[0m\u001b[0;34m)\u001b[0m\u001b[0;34m\u001b[0m\u001b[0;34m\u001b[0m\u001b[0m\n\u001b[0;32m---> 14\u001b[0;31m     \u001b[0mdfdx1\u001b[0m \u001b[0;34m=\u001b[0m \u001b[0;34m(\u001b[0m\u001b[0mf\u001b[0m\u001b[0;34m(\u001b[0m\u001b[0mx1\u001b[0m \u001b[0;34m+\u001b[0m \u001b[0mh\u001b[0m\u001b[0;34m,\u001b[0m \u001b[0mx2\u001b[0m\u001b[0;34m)\u001b[0m \u001b[0;34m-\u001b[0m \u001b[0mfx1x2\u001b[0m\u001b[0;34m)\u001b[0m \u001b[0;34m/\u001b[0m \u001b[0mh\u001b[0m\u001b[0;34m\u001b[0m\u001b[0;34m\u001b[0m\u001b[0m\n\u001b[0m\u001b[1;32m     15\u001b[0m     \u001b[0mdfdx2\u001b[0m \u001b[0;34m=\u001b[0m \u001b[0;34m(\u001b[0m\u001b[0mf\u001b[0m\u001b[0;34m(\u001b[0m\u001b[0mx1\u001b[0m\u001b[0;34m,\u001b[0m \u001b[0mx2\u001b[0m \u001b[0;34m+\u001b[0m \u001b[0mh\u001b[0m\u001b[0;34m)\u001b[0m \u001b[0;34m-\u001b[0m \u001b[0mfx1x2\u001b[0m\u001b[0;34m)\u001b[0m \u001b[0;34m/\u001b[0m \u001b[0mh\u001b[0m\u001b[0;34m\u001b[0m\u001b[0;34m\u001b[0m\u001b[0m\n\u001b[1;32m     16\u001b[0m \u001b[0;34m\u001b[0m\u001b[0m\n",
      "\u001b[0;31mTypeError\u001b[0m: f() takes 1 positional argument but 2 were given"
     ]
    }
   ],
   "source": [
    "result,iteration = min_banana(f, initial, tol)\n",
    "print(result[0], result[1])\n",
    "print(iteration)\n",
    "\n",
    "# Hyperparamterize c in range() , np linspace etc to test for the best hyperparameters\n"
   ]
  }
 ],
 "metadata": {
  "kernelspec": {
   "display_name": "python3",
   "language": "python",
   "name": "python3"
  },
  "language_info": {
   "codemirror_mode": {
    "name": "ipython",
    "version": 3
   },
   "file_extension": ".py",
   "mimetype": "text/x-python",
   "name": "python",
   "nbconvert_exporter": "python",
   "pygments_lexer": "ipython3",
   "version": "3.8.5"
  },
  "widgets": {
   "application/vnd.jupyter.widget-state+json": {
    "state": {},
    "version_major": 2,
    "version_minor": 0
   }
  }
 },
 "nbformat": 4,
 "nbformat_minor": 4
}
