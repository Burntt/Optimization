{
 "cells": [
  {
   "cell_type": "code",
   "execution_count": 1,
   "metadata": {},
   "outputs": [],
   "source": [
    "from math import sin\n",
    "a = 2.\n",
    "b = 7.\n",
    "tol = 0.000001\n",
    "f = sin"
   ]
  },
  {
   "cell_type": "code",
   "execution_count": 2,
   "metadata": {},
   "outputs": [
    {
     "name": "stdout",
     "output_type": "stream",
     "text": [
      "4.712388980382225\n"
     ]
    }
   ],
   "source": [
    "def df(x,dx):\n",
    "    return (f( x + dx ) - f( x - dx )) / ( 2*dx ) \n",
    "\n",
    "def ddf(x,dx):\n",
    "    return (df( x + dx, dx ) - df( x - dx , dx )) / ( 2*dx ) \n",
    "       \n",
    "def newton(a, b, f, tol):\n",
    "    x = (a+b)/2\n",
    "    dx = tol\n",
    "    while True:\n",
    "        num = df(x,dx)\n",
    "        den = ddf(x,dx)\n",
    "        xnew = x - ( num / den )\n",
    "        if abs(x - xnew) < tol:\n",
    "            return xnew\n",
    "            break\n",
    "        x = xnew\n",
    "    \n",
    "x = newton(a, b, f, tol)\n",
    "print(x)"
   ]
  }
 ],
 "metadata": {
  "kernelspec": {
   "display_name": "python3",
   "language": "python",
   "name": "python3"
  },
  "language_info": {
   "codemirror_mode": {
    "name": "ipython",
    "version": 3
   },
   "file_extension": ".py",
   "mimetype": "text/x-python",
   "name": "python",
   "nbconvert_exporter": "python",
   "pygments_lexer": "ipython3",
   "version": "3.8.5"
  }
 },
 "nbformat": 4,
 "nbformat_minor": 4
}
