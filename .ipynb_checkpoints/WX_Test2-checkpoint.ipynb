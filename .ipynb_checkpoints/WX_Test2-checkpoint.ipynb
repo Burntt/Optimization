{
 "cells": [
  {
   "cell_type": "code",
   "execution_count": 1,
   "metadata": {},
   "outputs": [],
   "source": [
    "import numpy as np\n",
    "from math import sqrt"
   ]
  },
  {
   "cell_type": "code",
   "execution_count": 2,
   "metadata": {},
   "outputs": [],
   "source": [
    "def norm(x):\n",
    "    return sqrt(sum(t**2 for t in x))\n",
    "\n",
    "def sqrnorm(x):\n",
    "    return sum(t**2 for t in x)\n",
    "\n",
    "def L2norm(vector):\n",
    "    sumsquares = np.sum(np.power(vector,2))\n",
    "    return sumsquares**(0.5)"
   ]
  },
  {
   "cell_type": "code",
   "execution_count": 3,
   "metadata": {},
   "outputs": [],
   "source": [
    "def non_approximate_gradient(x):\n",
    "    gradient = np.zeros(len(x))\n",
    "    for k in range(len(x)):\n",
    "        result = 0\n",
    "        for i in range(len(x)):\n",
    "            result += A[i, k] * (np.dot(A[i], x) - b[i])\n",
    "        gradient[k] = 2 * result\n",
    "    return gradient"
   ]
  },
  {
   "cell_type": "code",
   "execution_count": 4,
   "metadata": {},
   "outputs": [],
   "source": [
    "def armijo(f, grad_approx, x, c, alpha, stepdir):\n",
    "    return (\n",
    "        f(np.array(x - alpha*stepdir)) < f(x) - c * alpha*( np.dot(stepdir, grad_approx) )\n",
    "    )"
   ]
  },
  {
   "cell_type": "code",
   "execution_count": 5,
   "metadata": {},
   "outputs": [],
   "source": [
    "def optimizer(f, initial, tolerance, max_iter, c, c1 ,c2):\n",
    "    x_current = initial\n",
    "    n = len(initial)\n",
    "    acc_x = np.array([0]*len(initial))\n",
    "    \n",
    "    iteration = 0\n",
    "    \n",
    "    for i in range(max_iter):\n",
    "        \n",
    "        #print('-------------------')\n",
    "        \n",
    "        grad_approx = non_approximate_gradient(x_current)\n",
    "        \n",
    "        alpha = 1.\n",
    "        \n",
    "        stepdir = c1*acc_x + c2*grad_approx\n",
    "        \n",
    "        while armijo(f, grad_approx, x_current, c, alpha * 1.5, stepdir):\n",
    "            alpha *= 1.5\n",
    "        max_iter_armijo = 100\n",
    "        cur_iter_armijo = 0\n",
    "        while not armijo(f, grad_approx, x_current, c, alpha, stepdir):\n",
    "            alpha *= 0.5        \n",
    "            cur_iter_armijo += 1\n",
    "            if cur_iter_armijo > max_iter_armijo:\n",
    "                return x_current\n",
    "              \n",
    "        x_next = list(x_current - alpha * stepdir)\n",
    "        x_current = x_next   \n",
    "        \n",
    "        acc_x = stepdir\n",
    "        iteration = iteration + 1\n",
    "        \n",
    "        #print('alpha | grad ', alpha, grad_approx)\n",
    "        \n",
    "    return list(x_current)"
   ]
  },
  {
   "cell_type": "markdown",
   "metadata": {},
   "source": [
    "# Enter sample input"
   ]
  },
  {
   "cell_type": "code",
   "execution_count": 6,
   "metadata": {},
   "outputs": [
    {
     "name": "stdout",
     "output_type": "stream",
     "text": [
      "0\n",
      "1\n",
      "2\n",
      "3\n",
      "4\n"
     ]
    }
   ],
   "source": [
    "for i in range(5):\n",
    "    print(i)"
   ]
  },
  {
   "cell_type": "code",
   "execution_count": 32,
   "metadata": {},
   "outputs": [],
   "source": [
    "def non_approximate_gradient(x, a):\n",
    "    gradient = np.zeros(len(x))\n",
    "    n = len(x)\n",
    "    for i in range(1, n+1):\n",
    "        \n",
    "        # Special cases\n",
    "        if i == 0:\n",
    "            gradient[i] = 2 * x[1] * (x[1] * x[0] - a[0]) + 2 * x[n] * (x[n] * x[1]-a[n])\n",
    "        elif i == n:\n",
    "        \n",
    "        # Other\n",
    "            gradient[n] = 2 * x[n-1] * ( x[n-1] * x[n] - a[n-1] ) + 2*x[1]*(x[n]*x[1] - a[n])\n",
    "        else:\n",
    "            gradient[i] = 2 * x[n-1] * (x[n-1] * x[n] - a[n-1]) + 2*x[i+1]*(x[n]*x[n+1] - a[n])\n",
    "            \n",
    "    return gradient"
   ]
  },
  {
   "cell_type": "code",
   "execution_count": 33,
   "metadata": {},
   "outputs": [
    {
     "ename": "IndexError",
     "evalue": "list index out of range",
     "output_type": "error",
     "traceback": [
      "\u001b[0;31m---------------------------------------------------------------------------\u001b[0m",
      "\u001b[0;31mIndexError\u001b[0m                                Traceback (most recent call last)",
      "\u001b[0;32m<ipython-input-33-8e5e3ae02007>\u001b[0m in \u001b[0;36m<module>\u001b[0;34m\u001b[0m\n\u001b[1;32m      2\u001b[0m \u001b[0mf_threshold\u001b[0m \u001b[0;34m=\u001b[0m \u001b[0;36m0.02\u001b[0m\u001b[0;34m\u001b[0m\u001b[0;34m\u001b[0m\u001b[0m\n\u001b[1;32m      3\u001b[0m \u001b[0;34m\u001b[0m\u001b[0m\n\u001b[0;32m----> 4\u001b[0;31m \u001b[0mnon_approximate_gradient\u001b[0m\u001b[0;34m(\u001b[0m\u001b[0;34m[\u001b[0m\u001b[0;36m3.55648\u001b[0m\u001b[0;34m,\u001b[0m \u001b[0;36m0.83441\u001b[0m\u001b[0;34m,\u001b[0m \u001b[0;36m0.82695\u001b[0m\u001b[0;34m]\u001b[0m\u001b[0;34m,\u001b[0m \u001b[0ma\u001b[0m\u001b[0;34m)\u001b[0m\u001b[0;34m\u001b[0m\u001b[0;34m\u001b[0m\u001b[0m\n\u001b[0m",
      "\u001b[0;32m<ipython-input-32-baa824cf4646>\u001b[0m in \u001b[0;36mnon_approximate_gradient\u001b[0;34m(x, a)\u001b[0m\n\u001b[1;32m     12\u001b[0m             \u001b[0mgradient\u001b[0m\u001b[0;34m[\u001b[0m\u001b[0mn\u001b[0m\u001b[0;34m]\u001b[0m \u001b[0;34m=\u001b[0m \u001b[0;36m2\u001b[0m \u001b[0;34m*\u001b[0m \u001b[0mx\u001b[0m\u001b[0;34m[\u001b[0m\u001b[0mn\u001b[0m\u001b[0;34m-\u001b[0m\u001b[0;36m1\u001b[0m\u001b[0;34m]\u001b[0m \u001b[0;34m*\u001b[0m \u001b[0;34m(\u001b[0m \u001b[0mx\u001b[0m\u001b[0;34m[\u001b[0m\u001b[0mn\u001b[0m\u001b[0;34m-\u001b[0m\u001b[0;36m1\u001b[0m\u001b[0;34m]\u001b[0m \u001b[0;34m*\u001b[0m \u001b[0mx\u001b[0m\u001b[0;34m[\u001b[0m\u001b[0mn\u001b[0m\u001b[0;34m]\u001b[0m \u001b[0;34m-\u001b[0m \u001b[0ma\u001b[0m\u001b[0;34m[\u001b[0m\u001b[0mn\u001b[0m\u001b[0;34m-\u001b[0m\u001b[0;36m1\u001b[0m\u001b[0;34m]\u001b[0m \u001b[0;34m)\u001b[0m \u001b[0;34m+\u001b[0m \u001b[0;36m2\u001b[0m\u001b[0;34m*\u001b[0m\u001b[0mx\u001b[0m\u001b[0;34m[\u001b[0m\u001b[0;36m1\u001b[0m\u001b[0;34m]\u001b[0m\u001b[0;34m*\u001b[0m\u001b[0;34m(\u001b[0m\u001b[0mx\u001b[0m\u001b[0;34m[\u001b[0m\u001b[0mn\u001b[0m\u001b[0;34m]\u001b[0m\u001b[0;34m*\u001b[0m\u001b[0mx\u001b[0m\u001b[0;34m[\u001b[0m\u001b[0;36m1\u001b[0m\u001b[0;34m]\u001b[0m \u001b[0;34m-\u001b[0m \u001b[0ma\u001b[0m\u001b[0;34m[\u001b[0m\u001b[0mn\u001b[0m\u001b[0;34m]\u001b[0m\u001b[0;34m)\u001b[0m\u001b[0;34m\u001b[0m\u001b[0;34m\u001b[0m\u001b[0m\n\u001b[1;32m     13\u001b[0m         \u001b[0;32melse\u001b[0m\u001b[0;34m:\u001b[0m\u001b[0;34m\u001b[0m\u001b[0;34m\u001b[0m\u001b[0m\n\u001b[0;32m---> 14\u001b[0;31m             \u001b[0mgradient\u001b[0m\u001b[0;34m[\u001b[0m\u001b[0mi\u001b[0m\u001b[0;34m]\u001b[0m \u001b[0;34m=\u001b[0m \u001b[0;36m2\u001b[0m \u001b[0;34m*\u001b[0m \u001b[0mx\u001b[0m\u001b[0;34m[\u001b[0m\u001b[0mn\u001b[0m\u001b[0;34m-\u001b[0m\u001b[0;36m1\u001b[0m\u001b[0;34m]\u001b[0m \u001b[0;34m*\u001b[0m \u001b[0;34m(\u001b[0m\u001b[0mx\u001b[0m\u001b[0;34m[\u001b[0m\u001b[0mn\u001b[0m\u001b[0;34m-\u001b[0m\u001b[0;36m1\u001b[0m\u001b[0;34m]\u001b[0m \u001b[0;34m*\u001b[0m \u001b[0mx\u001b[0m\u001b[0;34m[\u001b[0m\u001b[0mn\u001b[0m\u001b[0;34m]\u001b[0m \u001b[0;34m-\u001b[0m \u001b[0ma\u001b[0m\u001b[0;34m[\u001b[0m\u001b[0mn\u001b[0m\u001b[0;34m-\u001b[0m\u001b[0;36m1\u001b[0m\u001b[0;34m]\u001b[0m\u001b[0;34m)\u001b[0m \u001b[0;34m+\u001b[0m \u001b[0;36m2\u001b[0m\u001b[0;34m*\u001b[0m\u001b[0mx\u001b[0m\u001b[0;34m[\u001b[0m\u001b[0mi\u001b[0m\u001b[0;34m+\u001b[0m\u001b[0;36m1\u001b[0m\u001b[0;34m]\u001b[0m\u001b[0;34m*\u001b[0m\u001b[0;34m(\u001b[0m\u001b[0mx\u001b[0m\u001b[0;34m[\u001b[0m\u001b[0mn\u001b[0m\u001b[0;34m]\u001b[0m\u001b[0;34m*\u001b[0m\u001b[0mx\u001b[0m\u001b[0;34m[\u001b[0m\u001b[0mn\u001b[0m\u001b[0;34m+\u001b[0m\u001b[0;36m1\u001b[0m\u001b[0;34m]\u001b[0m \u001b[0;34m-\u001b[0m \u001b[0ma\u001b[0m\u001b[0;34m[\u001b[0m\u001b[0mn\u001b[0m\u001b[0;34m]\u001b[0m\u001b[0;34m)\u001b[0m\u001b[0;34m\u001b[0m\u001b[0;34m\u001b[0m\u001b[0m\n\u001b[0m\u001b[1;32m     15\u001b[0m \u001b[0;34m\u001b[0m\u001b[0m\n\u001b[1;32m     16\u001b[0m     \u001b[0;32mreturn\u001b[0m \u001b[0mgradient\u001b[0m\u001b[0;34m\u001b[0m\u001b[0;34m\u001b[0m\u001b[0m\n",
      "\u001b[0;31mIndexError\u001b[0m: list index out of range"
     ]
    }
   ],
   "source": [
    "a = [2.9675555145514085, 0.6900184616445497, 2.9410424526610592]\n",
    "f_threshold = 0.02\n",
    "\n",
    "non_approximate_gradient([3.55648, 0.83441, 0.82695], a)"
   ]
  },
  {
   "cell_type": "code",
   "execution_count": 9,
   "metadata": {},
   "outputs": [],
   "source": [
    "def f(x, a):\n",
    "    result = 0\n",
    "    n = len(a)\n",
    "    for i in range(n - 1):\n",
    "        result += (x[i] * x[i + 1] - a[i]) ** 2\n",
    "    result += (x[n - 1] * x[0] - a[n - 1]) ** 2\n",
    "    return result"
   ]
  },
  {
   "cell_type": "code",
   "execution_count": 10,
   "metadata": {},
   "outputs": [
    {
     "ename": "TypeError",
     "evalue": "non_approximate_gradient() missing 1 required positional argument: 'a'",
     "output_type": "error",
     "traceback": [
      "\u001b[0;31m---------------------------------------------------------------------------\u001b[0m",
      "\u001b[0;31mTypeError\u001b[0m                                 Traceback (most recent call last)",
      "\u001b[0;32m<ipython-input-10-75c832f07151>\u001b[0m in \u001b[0;36m<module>\u001b[0;34m\u001b[0m\n\u001b[1;32m      4\u001b[0m \u001b[0mc\u001b[0m \u001b[0;34m,\u001b[0m \u001b[0mc1\u001b[0m \u001b[0;34m,\u001b[0m \u001b[0mc2\u001b[0m \u001b[0;34m=\u001b[0m  \u001b[0;34m[\u001b[0m\u001b[0;36m0.30000000000000004\u001b[0m\u001b[0;34m,\u001b[0m \u001b[0;36m0.30000000000000004\u001b[0m\u001b[0;34m,\u001b[0m \u001b[0;36m0.1\u001b[0m\u001b[0;34m]\u001b[0m\u001b[0;34m\u001b[0m\u001b[0;34m\u001b[0m\u001b[0m\n\u001b[1;32m      5\u001b[0m \u001b[0;34m\u001b[0m\u001b[0m\n\u001b[0;32m----> 6\u001b[0;31m \u001b[0msol\u001b[0m \u001b[0;34m=\u001b[0m \u001b[0moptimizer\u001b[0m\u001b[0;34m(\u001b[0m\u001b[0mf\u001b[0m\u001b[0;34m,\u001b[0m \u001b[0minitial\u001b[0m\u001b[0;34m,\u001b[0m \u001b[0mtol\u001b[0m\u001b[0;34m,\u001b[0m \u001b[0mmax_iter\u001b[0m\u001b[0;34m=\u001b[0m\u001b[0;36m10000\u001b[0m\u001b[0;34m,\u001b[0m \u001b[0mc\u001b[0m \u001b[0;34m=\u001b[0m \u001b[0mc\u001b[0m\u001b[0;34m,\u001b[0m \u001b[0mc1\u001b[0m \u001b[0;34m=\u001b[0m \u001b[0mc1\u001b[0m \u001b[0;34m,\u001b[0m \u001b[0mc2\u001b[0m \u001b[0;34m=\u001b[0m \u001b[0mc2\u001b[0m\u001b[0;34m)\u001b[0m\u001b[0;34m\u001b[0m\u001b[0;34m\u001b[0m\u001b[0m\n\u001b[0m\u001b[1;32m      7\u001b[0m \u001b[0mprint\u001b[0m\u001b[0;34m(\u001b[0m\u001b[0msol\u001b[0m\u001b[0;34m)\u001b[0m\u001b[0;34m\u001b[0m\u001b[0;34m\u001b[0m\u001b[0m\n",
      "\u001b[0;32m<ipython-input-5-10477f770f71>\u001b[0m in \u001b[0;36moptimizer\u001b[0;34m(f, initial, tolerance, max_iter, c, c1, c2)\u001b[0m\n\u001b[1;32m     10\u001b[0m         \u001b[0;31m#print('-------------------')\u001b[0m\u001b[0;34m\u001b[0m\u001b[0;34m\u001b[0m\u001b[0;34m\u001b[0m\u001b[0m\n\u001b[1;32m     11\u001b[0m \u001b[0;34m\u001b[0m\u001b[0m\n\u001b[0;32m---> 12\u001b[0;31m         \u001b[0mgrad_approx\u001b[0m \u001b[0;34m=\u001b[0m \u001b[0mnon_approximate_gradient\u001b[0m\u001b[0;34m(\u001b[0m\u001b[0mx_current\u001b[0m\u001b[0;34m)\u001b[0m\u001b[0;34m\u001b[0m\u001b[0;34m\u001b[0m\u001b[0m\n\u001b[0m\u001b[1;32m     13\u001b[0m \u001b[0;34m\u001b[0m\u001b[0m\n\u001b[1;32m     14\u001b[0m         \u001b[0malpha\u001b[0m \u001b[0;34m=\u001b[0m \u001b[0;36m1.\u001b[0m\u001b[0;34m\u001b[0m\u001b[0;34m\u001b[0m\u001b[0m\n",
      "\u001b[0;31mTypeError\u001b[0m: non_approximate_gradient() missing 1 required positional argument: 'a'"
     ]
    }
   ],
   "source": [
    "tol = f_threshold\n",
    "initial = np.ones(len(a))\n",
    "\n",
    "c , c1 , c2 =  [0.30000000000000004, 0.30000000000000004, 0.1]\n",
    "\n",
    "sol = optimizer(f, initial, tol, max_iter=10000, c = c, c1 = c1 , c2 = c2) \n",
    "print(sol)"
   ]
  },
  {
   "cell_type": "markdown",
   "metadata": {},
   "source": [
    "# Optimization for hyperparameters"
   ]
  },
  {
   "cell_type": "code",
   "execution_count": null,
   "metadata": {
    "scrolled": true
   },
   "outputs": [],
   "source": [
    "# INPUT FINAL COORDINATES!!\n",
    "# INPUT FINAL COORDINATES!!\n",
    "# INPUT FINAL COORDINATES!!\n",
    "print('CARE CARE CARE CARE')\n",
    "print('CARE CARE CARE CARE')\n",
    "print('CARE CARE CARE CARE')\n",
    "print('CARE CARE CARE CARE')\n",
    "print('The final coordinates the your require for optimization are:')\n",
    "final_coord_vec = [1.9250001434580333, -4.800059678539262, 6.003006880246984, -2.115673076371321]\n",
    "print(final_coord_vec)\n",
    "\n",
    "#Other settings for hyperparameter optimization\n",
    "div = 10\n",
    "iter_max = 100\n",
    "\n",
    "from itertools import product\n",
    "\n",
    "c = np.linspace(0, 1, div, endpoint=False)[1:]\n",
    "c1 = np.linspace(0, 1, div, endpoint=False)[1:]\n",
    "c2 = np.linspace(0, 1, div, endpoint=False)[1:]\n",
    "\n",
    "n_ele = len(c)*len(c1)*len(c2)\n",
    "vec_hyperpara = []\n",
    "for c, c1, c2 in product(c, c1, c2):\n",
    "    vec_hyperpara.append([c, c1, c2])\n",
    "    \n",
    "list_of_error = []\n",
    "list_of_norm = []\n",
    "for p in range(n_ele):\n",
    "    c_init, c1_init, c2_init = vec_hyperpara[p]  \n",
    "    sol = optimizer(f, initial, tol, max_iter = iter_max, c = c_init, c1 = c1_init, c2 = c2_init)\n",
    "    list_of_error.append( list(np.array(sol) - final_coord_vec) )\n",
    "    list_of_norm.append( L2norm(list_of_error[p]) )\n",
    "minpos = list_of_norm.index(min(list_of_norm))\n",
    "best_hyperpara = vec_hyperpara[minpos]\n",
    "\n",
    "print('best hyperparameters || c , c1 , c2 = ', best_hyperpara)\n",
    "\n",
    "c , c1 , c2 = best_hyperpara\n",
    "\n",
    "# TEST 1 # 10,100 ##  c , c1 , c2 =  [0.30000000000000004, 0.30000000000000004, 0.1]\n",
    "# TEST 1 # 20,100 ##  c , c1 , c2 =  [0.15000000000000002, 0.35000000000000003, 0.05]\n",
    "\n",
    "#c , c1 , c2 =  [0.15000000000000002, 0.35000000000000003, 0.05]"
   ]
  },
  {
   "cell_type": "markdown",
   "metadata": {},
   "source": [
    "# Print final solution"
   ]
  },
  {
   "cell_type": "code",
   "execution_count": null,
   "metadata": {
    "scrolled": true
   },
   "outputs": [],
   "source": [
    "sol = optimizer(f, initial, tol, max_iter=10000, c = c, c1 = c1 , c2 = c2) \n",
    "print(sol)"
   ]
  }
 ],
 "metadata": {
  "kernelspec": {
   "display_name": "python3",
   "language": "python",
   "name": "python3"
  },
  "language_info": {
   "codemirror_mode": {
    "name": "ipython",
    "version": 3
   },
   "file_extension": ".py",
   "mimetype": "text/x-python",
   "name": "python",
   "nbconvert_exporter": "python",
   "pygments_lexer": "ipython3",
   "version": "3.8.5"
  }
 },
 "nbformat": 4,
 "nbformat_minor": 4
}
