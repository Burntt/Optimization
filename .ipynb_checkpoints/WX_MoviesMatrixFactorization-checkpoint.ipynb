{
 "cells": [
  {
   "cell_type": "markdown",
   "metadata": {},
   "source": [
    "# Implement an automatic recommender algorithm based on an approximate matrix decomposition\n",
    "\n",
    "—a working code which loads the movie lens database and is able to produce the approximation (i.e. output the “user-category” relevance and “category-movie” relevance constants)."
   ]
  },
  {
   "cell_type": "markdown",
   "metadata": {},
   "source": [
    "## Read the data"
   ]
  },
  {
   "cell_type": "code",
   "execution_count": 1,
   "metadata": {},
   "outputs": [],
   "source": [
    "import numpy as np\n",
    "import pandas as pd\n",
    "import sympy as sym\n",
    "from sympy import *\n",
    "from tqdm import tqdm\n",
    "from sklearn import utils\n",
    "from sklearn import metrics\n",
    "import random\n",
    "import math\n",
    "from sklearn.metrics import mean_squared_error\n",
    "from matplotlib import pyplot as plt"
   ]
  },
  {
   "cell_type": "code",
   "execution_count": 2,
   "metadata": {},
   "outputs": [],
   "source": [
    "n_movies = 1682\n",
    "n_users = 943\n",
    "n_genres = 19\n",
    "\n",
    "# Genres \n",
    "# Action | Adventure | Animation | Children's | Comedy | Crime | Documentary | Drama | Fantasy | \n",
    "# Film-Noir | Horror | Musical | Mystery | Romance | Sci-Fi |Thriller | War | Western |"
   ]
  },
  {
   "cell_type": "code",
   "execution_count": 3,
   "metadata": {},
   "outputs": [],
   "source": [
    "# read files\n",
    "df_user_scores = pd.read_csv(\"ml-100k/u.data\", sep=\"\\t\", names=[\"user_id\", \"movie_id\", \"rating\"], usecols=[0, 1, 2])\n",
    "df_movies = pd.read_csv(\"ml-100k/u.item\", sep=\"|\", names=[\"movie_id\", \"unknown\", \"action\", \"adventure\", \"animation\", \"children\", \"comedy\", \"crime\", \"documentary\", \"drama\", \"fantasy\", \"film_noir\", \"horror\", \"musical\", \"mystery\", \"romance\", \"sci_fi\", \"thriller\", \"war\", \"western\"], usecols=[0, *list(range(5, 24))], index_col=\"movie_id\")"
   ]
  },
  {
   "cell_type": "code",
   "execution_count": 4,
   "metadata": {},
   "outputs": [
    {
     "data": {
      "text/html": [
       "<div>\n",
       "<style scoped>\n",
       "    .dataframe tbody tr th:only-of-type {\n",
       "        vertical-align: middle;\n",
       "    }\n",
       "\n",
       "    .dataframe tbody tr th {\n",
       "        vertical-align: top;\n",
       "    }\n",
       "\n",
       "    .dataframe thead th {\n",
       "        text-align: right;\n",
       "    }\n",
       "</style>\n",
       "<table border=\"1\" class=\"dataframe\">\n",
       "  <thead>\n",
       "    <tr style=\"text-align: right;\">\n",
       "      <th></th>\n",
       "      <th>user_id</th>\n",
       "      <th>movie_id</th>\n",
       "      <th>rating</th>\n",
       "    </tr>\n",
       "  </thead>\n",
       "  <tbody>\n",
       "    <tr>\n",
       "      <th>0</th>\n",
       "      <td>196</td>\n",
       "      <td>242</td>\n",
       "      <td>3</td>\n",
       "    </tr>\n",
       "    <tr>\n",
       "      <th>1</th>\n",
       "      <td>186</td>\n",
       "      <td>302</td>\n",
       "      <td>3</td>\n",
       "    </tr>\n",
       "    <tr>\n",
       "      <th>2</th>\n",
       "      <td>22</td>\n",
       "      <td>377</td>\n",
       "      <td>1</td>\n",
       "    </tr>\n",
       "    <tr>\n",
       "      <th>3</th>\n",
       "      <td>244</td>\n",
       "      <td>51</td>\n",
       "      <td>2</td>\n",
       "    </tr>\n",
       "    <tr>\n",
       "      <th>4</th>\n",
       "      <td>166</td>\n",
       "      <td>346</td>\n",
       "      <td>1</td>\n",
       "    </tr>\n",
       "    <tr>\n",
       "      <th>...</th>\n",
       "      <td>...</td>\n",
       "      <td>...</td>\n",
       "      <td>...</td>\n",
       "    </tr>\n",
       "    <tr>\n",
       "      <th>99995</th>\n",
       "      <td>880</td>\n",
       "      <td>476</td>\n",
       "      <td>3</td>\n",
       "    </tr>\n",
       "    <tr>\n",
       "      <th>99996</th>\n",
       "      <td>716</td>\n",
       "      <td>204</td>\n",
       "      <td>5</td>\n",
       "    </tr>\n",
       "    <tr>\n",
       "      <th>99997</th>\n",
       "      <td>276</td>\n",
       "      <td>1090</td>\n",
       "      <td>1</td>\n",
       "    </tr>\n",
       "    <tr>\n",
       "      <th>99998</th>\n",
       "      <td>13</td>\n",
       "      <td>225</td>\n",
       "      <td>2</td>\n",
       "    </tr>\n",
       "    <tr>\n",
       "      <th>99999</th>\n",
       "      <td>12</td>\n",
       "      <td>203</td>\n",
       "      <td>3</td>\n",
       "    </tr>\n",
       "  </tbody>\n",
       "</table>\n",
       "<p>100000 rows × 3 columns</p>\n",
       "</div>"
      ],
      "text/plain": [
       "       user_id  movie_id  rating\n",
       "0          196       242       3\n",
       "1          186       302       3\n",
       "2           22       377       1\n",
       "3          244        51       2\n",
       "4          166       346       1\n",
       "...        ...       ...     ...\n",
       "99995      880       476       3\n",
       "99996      716       204       5\n",
       "99997      276      1090       1\n",
       "99998       13       225       2\n",
       "99999       12       203       3\n",
       "\n",
       "[100000 rows x 3 columns]"
      ]
     },
     "execution_count": 4,
     "metadata": {},
     "output_type": "execute_result"
    }
   ],
   "source": [
    "# Check if all user - movie - rating relations are unique\n",
    "# A user did not rate a movie twice in different days\n",
    "(df_user_scores.groupby([\"movie_id\", \"user_id\"]).count() == 1).all()\n",
    "df_user_scores"
   ]
  },
  {
   "cell_type": "code",
   "execution_count": 5,
   "metadata": {},
   "outputs": [
    {
     "data": {
      "text/plain": [
       "(943, 1682)"
      ]
     },
     "execution_count": 5,
     "metadata": {},
     "output_type": "execute_result"
    }
   ],
   "source": [
    "# UserScores Matrix\n",
    "# -----------------\n",
    "# Since we have consecutive ids from 1 for movies and users we can create\n",
    "# scores matrix in the following manner\n",
    "# n_rows = users\n",
    "# n_col = movies\n",
    "# subtracting 1 from the ids is because numpy array index starts from 0 \n",
    "np_user_movie_scores = np.zeros([df_user_scores[\"user_id\"].max(), df_user_scores[\"movie_id\"].max()])\n",
    "for index, row in df_user_scores.iterrows():\n",
    "    np_user_movie_scores[row[\"user_id\"] - 1, row[\"movie_id\"] - 1] = row[\"rating\"]\n",
    "np_user_movie_scores.shape"
   ]
  },
  {
   "cell_type": "code",
   "execution_count": 6,
   "metadata": {},
   "outputs": [],
   "source": [
    "A = np.ones([n_users, n_genres])\n",
    "B = np.ones([n_genres, n_movies])\n",
    "C = np_user_movie_scores\n",
    "\n",
    "# Store as sparse matrix\n",
    "# "
   ]
  },
  {
   "cell_type": "markdown",
   "metadata": {},
   "source": [
    "## Convert to useable objective function"
   ]
  },
  {
   "cell_type": "code",
   "execution_count": 7,
   "metadata": {
    "scrolled": true
   },
   "outputs": [
    {
     "data": {
      "text/latex": [
       "$\\displaystyle \\left(a_{11} b_{11} + a_{12} b_{21} - c_{11}\\right)^{2} + \\left(a_{11} b_{12} + a_{12} b_{22} - c_{12}\\right)^{2} + \\left(a_{21} b_{11} + a_{22} b_{21} - c_{21}\\right)^{2} + \\left(a_{21} b_{12} + a_{22} b_{22} - c_{22}\\right)^{2}$"
      ],
      "text/plain": [
       "(a11*b11 + a12*b21 - c11)**2 + (a11*b12 + a12*b22 - c12)**2 + (a21*b11 + a22*b21 - c21)**2 + (a21*b12 + a22*b22 - c22)**2"
      ]
     },
     "execution_count": 7,
     "metadata": {},
     "output_type": "execute_result"
    }
   ],
   "source": [
    "a11, a12, a21, a22 = symbols('a11 a12 a21 a22')\n",
    "b11, b12, b21, b22 = symbols('b11 b12 b21 b22')\n",
    "c11, c12, c21, c22 = symbols('c11 c12 c21 c22')\n",
    "\n",
    "\n",
    "A = [[a11, a12],\n",
    "     [a21, a22]]\n",
    "\n",
    "B = [[b11, b12],\n",
    "     [b21, b22]]\n",
    "\n",
    "C = [[c11, c12],\n",
    "     [c21, c22]]\n",
    "\n",
    "A = np.asarray(A)\n",
    "B = np.asarray(B)\n",
    "C = np.asarray(C)\n",
    "\n",
    "def obj_f(A, B):\n",
    "    result = 0\n",
    "    for i in range(A.shape[0]):\n",
    "        row_x_col = 0\n",
    "        cont = 0\n",
    "        for j in range(B.shape[1]):\n",
    "            if C[i][j] != 0:\n",
    "                row_x_col = np.dot(A[i,:], B[:,j])\n",
    "                cont = row_x_col - C[i][j]\n",
    "            result += cont**2\n",
    "    return result\n",
    "\n",
    "func = obj_f(A,B)\n",
    "func"
   ]
  },
  {
   "cell_type": "markdown",
   "metadata": {},
   "source": [
    "## Compute gradient"
   ]
  },
  {
   "cell_type": "code",
   "execution_count": 8,
   "metadata": {
    "scrolled": false
   },
   "outputs": [
    {
     "data": {
      "text/latex": [
       "$\\displaystyle 2 b_{11} \\left(a_{11} b_{11} + a_{12} b_{21} - c_{11}\\right) + 2 b_{12} \\left(a_{11} b_{12} + a_{12} b_{22} - c_{12}\\right)$"
      ],
      "text/plain": [
       "2*b11*(a11*b11 + a12*b21 - c11) + 2*b12*(a11*b12 + a12*b22 - c12)"
      ]
     },
     "execution_count": 8,
     "metadata": {},
     "output_type": "execute_result"
    }
   ],
   "source": [
    "sym.diff(func, a11, 1)"
   ]
  },
  {
   "cell_type": "code",
   "execution_count": 9,
   "metadata": {},
   "outputs": [
    {
     "data": {
      "text/latex": [
       "$\\displaystyle 2 b_{21} \\left(a_{11} b_{11} + a_{12} b_{21} - c_{11}\\right) + 2 b_{22} \\left(a_{11} b_{12} + a_{12} b_{22} - c_{12}\\right)$"
      ],
      "text/plain": [
       "2*b21*(a11*b11 + a12*b21 - c11) + 2*b22*(a11*b12 + a12*b22 - c12)"
      ]
     },
     "execution_count": 9,
     "metadata": {},
     "output_type": "execute_result"
    }
   ],
   "source": [
    "sym.diff(func, a12, 1)"
   ]
  },
  {
   "cell_type": "code",
   "execution_count": 10,
   "metadata": {},
   "outputs": [
    {
     "data": {
      "text/latex": [
       "$\\displaystyle 2 b_{11} \\left(a_{21} b_{11} + a_{22} b_{21} - c_{21}\\right) + 2 b_{12} \\left(a_{21} b_{12} + a_{22} b_{22} - c_{22}\\right)$"
      ],
      "text/plain": [
       "2*b11*(a21*b11 + a22*b21 - c21) + 2*b12*(a21*b12 + a22*b22 - c22)"
      ]
     },
     "execution_count": 10,
     "metadata": {},
     "output_type": "execute_result"
    }
   ],
   "source": [
    "sym.diff(func, a21, 1)"
   ]
  },
  {
   "cell_type": "code",
   "execution_count": 11,
   "metadata": {
    "scrolled": true
   },
   "outputs": [
    {
     "data": {
      "text/latex": [
       "$\\displaystyle 2 b_{21} \\left(a_{21} b_{11} + a_{22} b_{21} - c_{21}\\right) + 2 b_{22} \\left(a_{21} b_{12} + a_{22} b_{22} - c_{22}\\right)$"
      ],
      "text/plain": [
       "2*b21*(a21*b11 + a22*b21 - c21) + 2*b22*(a21*b12 + a22*b22 - c22)"
      ]
     },
     "execution_count": 11,
     "metadata": {},
     "output_type": "execute_result"
    }
   ],
   "source": [
    "sym.diff(func, a22, 1)"
   ]
  },
  {
   "cell_type": "code",
   "execution_count": 12,
   "metadata": {},
   "outputs": [],
   "source": [
    "# u = number of users                     |  n_users\n",
    "# p = number of movies                    |  n_movies\n",
    "# c = number fo movie categorie (genres)  |  n_genres"
   ]
  },
  {
   "cell_type": "code",
   "execution_count": 13,
   "metadata": {},
   "outputs": [
    {
     "data": {
      "text/latex": [
       "$\\displaystyle 2 a_{11} \\left(a_{11} b_{11} + a_{12} b_{21} - c_{11}\\right) + 2 a_{21} \\left(a_{21} b_{11} + a_{22} b_{21} - c_{21}\\right)$"
      ],
      "text/plain": [
       "2*a11*(a11*b11 + a12*b21 - c11) + 2*a21*(a21*b11 + a22*b21 - c21)"
      ]
     },
     "execution_count": 13,
     "metadata": {},
     "output_type": "execute_result"
    }
   ],
   "source": [
    "sym.diff(func, b11, 1)"
   ]
  },
  {
   "cell_type": "code",
   "execution_count": 14,
   "metadata": {},
   "outputs": [
    {
     "data": {
      "text/latex": [
       "$\\displaystyle 2 a_{11} \\left(a_{11} b_{12} + a_{12} b_{22} - c_{12}\\right) + 2 a_{21} \\left(a_{21} b_{12} + a_{22} b_{22} - c_{22}\\right)$"
      ],
      "text/plain": [
       "2*a11*(a11*b12 + a12*b22 - c12) + 2*a21*(a21*b12 + a22*b22 - c22)"
      ]
     },
     "execution_count": 14,
     "metadata": {},
     "output_type": "execute_result"
    }
   ],
   "source": [
    "sym.diff(func, b12, 1)"
   ]
  },
  {
   "cell_type": "code",
   "execution_count": 15,
   "metadata": {
    "scrolled": true
   },
   "outputs": [
    {
     "data": {
      "text/latex": [
       "$\\displaystyle 2 a_{12} \\left(a_{11} b_{11} + a_{12} b_{21} - c_{11}\\right) + 2 a_{22} \\left(a_{21} b_{11} + a_{22} b_{21} - c_{21}\\right)$"
      ],
      "text/plain": [
       "2*a12*(a11*b11 + a12*b21 - c11) + 2*a22*(a21*b11 + a22*b21 - c21)"
      ]
     },
     "execution_count": 15,
     "metadata": {},
     "output_type": "execute_result"
    }
   ],
   "source": [
    "sym.diff(func, b21, 1)"
   ]
  },
  {
   "cell_type": "code",
   "execution_count": 16,
   "metadata": {
    "scrolled": true
   },
   "outputs": [
    {
     "data": {
      "text/latex": [
       "$\\displaystyle 2 a_{12} \\left(a_{11} b_{12} + a_{12} b_{22} - c_{12}\\right) + 2 a_{22} \\left(a_{21} b_{12} + a_{22} b_{22} - c_{22}\\right)$"
      ],
      "text/plain": [
       "2*a12*(a11*b12 + a12*b22 - c12) + 2*a22*(a21*b12 + a22*b22 - c22)"
      ]
     },
     "execution_count": 16,
     "metadata": {},
     "output_type": "execute_result"
    }
   ],
   "source": [
    "sym.diff(func, b22, 1)"
   ]
  },
  {
   "attachments": {
    "image-2.png": {
     "image/png": "[encoded data removed]"
    }
   },
   "cell_type": "markdown",
   "metadata": {},
   "source": [
    "![image-2.png](attachment:image-2.png)"
   ]
  },
  {
   "cell_type": "code",
   "execution_count": 17,
   "metadata": {},
   "outputs": [
    {
     "name": "stdout",
     "output_type": "stream",
     "text": [
      "Test gradient for A\n",
      " \n",
      "2*b11*(a11*b11 + a12*b21 - c11)\n",
      "2*b12*(a11*b12 + a12*b22 - c12)\n",
      "---\n",
      "2*b21*(a11*b11 + a12*b21 - c11)\n",
      "2*b22*(a11*b12 + a12*b22 - c12)\n",
      "---\n",
      "2*b11*(a21*b11 + a22*b21 - c21)\n",
      "2*b12*(a21*b12 + a22*b22 - c22)\n",
      "---\n",
      "2*b21*(a21*b11 + a22*b21 - c21)\n",
      "2*b22*(a21*b12 + a22*b22 - c22)\n",
      "---\n",
      "--------------------\n",
      " \n",
      "Test gradient for B\n",
      " \n",
      "2*a11*(a11*b11 + a12*b21 - c11)\n",
      "2*a21*(a21*b11 + a22*b21 - c21)\n",
      "---\n",
      "2*a11*(a11*b12 + a12*b22 - c12)\n",
      "2*a21*(a21*b12 + a22*b22 - c22)\n",
      "---\n",
      "2*a12*(a11*b11 + a12*b21 - c11)\n",
      "2*a22*(a21*b11 + a22*b21 - c21)\n",
      "---\n",
      "2*a12*(a11*b12 + a12*b22 - c12)\n",
      "2*a22*(a21*b12 + a22*b22 - c22)\n",
      "---\n"
     ]
    }
   ],
   "source": [
    "def compute_gradient_test(A, B):\n",
    "    \n",
    "    gradient_A = np.zeros([A.shape[0], A.shape[1]])\n",
    "    gradient_B = np.zeros([B.shape[0], B.shape[1]])\n",
    "    \n",
    "    print('Test gradient for A')\n",
    "    print(' ')\n",
    "    \n",
    "    # Compute gradient w.r.t A\n",
    "    for u in range(A.shape[0]):    \n",
    "        for g in range(A.shape[1]):\n",
    "            for m in range(B.shape[1]):\n",
    "                movies_sum = 0\n",
    "                if C[g][m] != 0:\n",
    "                    movies_sum += 2 * B[g, m] * (np.dot( A[u, :] , B[:, m] ) - C[u, m])\n",
    "                print(movies_sum)\n",
    "            print('---')\n",
    "            \n",
    "    print('--------------------')\n",
    "    print(' ')\n",
    "    print('Test gradient for B')\n",
    "    print(' ')\n",
    "            \n",
    "    for g in range(B.shape[0]):\n",
    "        for m in range(B.shape[1]):\n",
    "            for u in range(A.shape[0]):\n",
    "                users_sum = 0\n",
    "                if C[g][m] != 0:\n",
    "                    users_sum += 2 * A[u, g] * (np.dot( A[u, :] , B[:, m] ) - C[u, m])\n",
    "                print(users_sum)\n",
    "            print('---')\n",
    "\n",
    "compute_gradient_test(A, B)"
   ]
  },
  {
   "cell_type": "markdown",
   "metadata": {},
   "source": [
    "### Compute gradient w.r.t. A and B, store in matrices"
   ]
  },
  {
   "cell_type": "code",
   "execution_count": 18,
   "metadata": {},
   "outputs": [],
   "source": [
    "def compute_gradient(A, B, C, batch_size_users, batch_size_movies):\n",
    "    # stochastic random batch\n",
    "    # random variable users - 10 \n",
    "    # random variable movies - all\n",
    "    # strategy of alternation (u 10, m all - m 10, u all - and so on)\n",
    "    \n",
    "#     n_users = A.shape[0]\n",
    "#     n_genres = A.shape[1]\n",
    "#     n_movies = B.shape[1]\n",
    "    \n",
    "    gradient_A = np.zeros([A.shape[0], A.shape[1]])\n",
    "    gradient_B = np.zeros([B.shape[0], B.shape[1]])\n",
    "    \n",
    "    range_users = range(A.shape[0])    \n",
    "    range_movies = range(B.shape[1])\n",
    "    \n",
    "    if batch_size_users > A.shape[0]: batch_size_users = A.shape[0]\n",
    "    if batch_size_movies > B.shape[1]: batch_size_movies = B.shape[1]\n",
    "    \n",
    "    if batch_size_users > 0:\n",
    "        range_users = random.sample(range(0, A.shape[0]), batch_size_users)\n",
    "                \n",
    "    if batch_size_movies > 0:\n",
    "        range_movies = random.sample(range(0, B.shape[1]), batch_size_movies)\n",
    "    \n",
    "    # Compute gradient w.r.t A\n",
    "    for u in range_users:    \n",
    "        for g in range(A.shape[1]):\n",
    "            for m in range_movies:\n",
    "                movies_sum = 0\n",
    "                if C[g][m] != 0:\n",
    "                    movies_sum += 2 * B[g, m] * (np.dot( A[u, :] , B[:, m] ) - C[u, m])\n",
    "            gradient_A[u, g] = movies_sum\n",
    "            \n",
    "    for g in range(B.shape[0]):\n",
    "        for m in range_movies:\n",
    "            for u in range_users:\n",
    "                users_sum = 0\n",
    "                if C[g][m] != 0:\n",
    "                    users_sum += 2 * A[u, g] * (np.dot( A[u, :] , B[:, m] ) - C[u, m])\n",
    "            gradient_B[g, m] = users_sum \n",
    "                        \n",
    "    return [gradient_A, gradient_B]"
   ]
  },
  {
   "cell_type": "markdown",
   "metadata": {},
   "source": [
    "## Optimization function"
   ]
  },
  {
   "cell_type": "code",
   "execution_count": 19,
   "metadata": {},
   "outputs": [],
   "source": [
    "Y = []\n",
    "\n",
    "Momentum = True\n",
    "\n",
    "def optimizer(f, A_init, B_init, C, tol, max_iter, alpha_init, eta, xi, div_batch):\n",
    "    A_current = A_init\n",
    "    B_current = B_init\n",
    "    \n",
    "    A_momentum = np.zeros(A_init.shape)\n",
    "    B_momentum = np.zeros(B_init.shape)\n",
    "    \n",
    "    for i in tqdm( range(max_iter) ):\n",
    "             \n",
    "        alpha = alpha_init / (i+1)\n",
    "        \n",
    "        if i % 2 == 0:\n",
    "            batch_size_users = math.ceil(A_init.shape[0] / div_batch)       \n",
    "            batch_size_movies = math.ceil(B_init.shape[1] / div_batch)\n",
    "        else:\n",
    "            batch_size_users= math.ceil(A_init.shape[0] / ( div_batch - 10 ) )\n",
    "            batch_size_movies = math.ceil(B_init.shape[1] / ( div_batch - 10 ))\n",
    "            \n",
    "            batch_size_users = 1      \n",
    "            batch_size_movies = 1\n",
    "                      \n",
    "        gradient_A, gradient_B = compute_gradient(A_current, B_current, C, batch_size_users, batch_size_movies)\n",
    "        \n",
    "        if Momentum == True:\n",
    "            \n",
    "            direction_A = eta * A_momentum + xi * gradient_A\n",
    "            direction_B = eta * B_momentum + xi * gradient_B    \n",
    "\n",
    "            A_next = A_current - alpha*direction_A\n",
    "            B_next = B_current - alpha*direction_B\n",
    "\n",
    "            A_momentum = direction_A        \n",
    "            B_momentum = direction_B\n",
    "            \n",
    "            A_current = A_next        \n",
    "            B_current = B_next\n",
    "            \n",
    "        elif Momentum == False:\n",
    "            \n",
    "            A_next = A_current - alpha*gradient_A\n",
    "            B_next = B_current - alpha*gradient_B\n",
    "\n",
    "            A_current = A_next        \n",
    "            B_current = B_next\n",
    "            \n",
    "#         print('alpha', alpha)\n",
    "        \n",
    "#         print(gradient_A)\n",
    "#         print(gradient_B)\n",
    "        \n",
    "        #Y.append(f(A_current, B_current))\n",
    "        \n",
    "    return A_current, B_current, Y"
   ]
  },
  {
   "cell_type": "markdown",
   "metadata": {},
   "source": [
    "#### Simple ex. problems"
   ]
  },
  {
   "cell_type": "code",
   "execution_count": 20,
   "metadata": {},
   "outputs": [],
   "source": [
    "# #Target A and B\n",
    "# A = np.array([[1,2],[3,4],[5,6]])\n",
    "# B = np.array([[1,2,3], [4,5,6]])\n",
    "\n",
    "# #Take C and initialize A & B\n",
    "\n",
    "# A_init = np.ones((3, 2))\n",
    "# B_init = np.ones((2,3))\n",
    "# C = np.array([[9,12,15], [19, 26, 33], [29, 40, 51]])"
   ]
  },
  {
   "cell_type": "code",
   "execution_count": 21,
   "metadata": {},
   "outputs": [],
   "source": [
    "# # Create random matrix n = 10\n",
    "\n",
    "# n = 100\n",
    "\n",
    "# np.random.seed(2); \n",
    "# A = np.random.rand(n,n)\n",
    "# B = np.random.rand(n,n)\n",
    "\n",
    "# #print(A)\n",
    "\n",
    "# C = np.dot(A,B)\n",
    "# #print(C)\n",
    "\n",
    "# A_init = sqrt(C.mean()/n)*np.ones([n,n])\n",
    "# B_init = sqrt(C.mean()/n)*np.ones([n,n])\n",
    "\n",
    "# #print(A_init)"
   ]
  },
  {
   "cell_type": "markdown",
   "metadata": {},
   "source": [
    "#### Actual probem"
   ]
  },
  {
   "cell_type": "code",
   "execution_count": 24,
   "metadata": {},
   "outputs": [],
   "source": [
    "C = np_user_movie_scores\n",
    "A_init = (sqrt(C.mean()) / n_users)*np.ones([n_users, n_genres])\n",
    "B_init = (sqrt(C.mean()) / n_users)*np.ones([n_genres, n_movies])"
   ]
  },
  {
   "cell_type": "markdown",
   "metadata": {},
   "source": [
    "####  Optimize"
   ]
  },
  {
   "cell_type": "code",
   "execution_count": 25,
   "metadata": {
    "scrolled": true
   },
   "outputs": [
    {
     "name": "stderr",
     "output_type": "stream",
     "text": [
      "\r",
      "  0%|          | 0/50 [00:00<?, ?it/s]"
     ]
    },
    {
     "name": "stdout",
     "output_type": "stream",
     "text": [
      " \n",
      "-----------------------------------------------------------------------------------------------------\n",
      "---------------------------------------------------OPTIMIZE------------------------------------------\n",
      "-----------------------------------------------------------------------------------------------------\n"
     ]
    },
    {
     "name": "stderr",
     "output_type": "stream",
     "text": [
      "100%|██████████| 50/50 [01:36<00:00,  1.93s/it]\n"
     ]
    }
   ],
   "source": [
    "print(' ')\n",
    "print('-----------------------------------------------------------------------------------------------------')\n",
    "print('---------------------------------------------------OPTIMIZE------------------------------------------')\n",
    "print('-----------------------------------------------------------------------------------------------------')\n",
    "\n",
    "alpha_init, eta, xi, div_batch = [0.008, 0.8, 0.8, 20.0]\n",
    "\n",
    "\n",
    "A_final , B_final, Y = optimizer(\n",
    "\n",
    "    # Initalize\n",
    "    obj_f,\n",
    "    A_init,\n",
    "    B_init,\n",
    "    C, \n",
    "    tol = 0.01,\n",
    "    max_iter = 50,\n",
    "\n",
    "    # Hyper parameters\n",
    "    alpha_init = alpha_init,\n",
    "    eta = eta,\n",
    "    xi = xi,\n",
    "    div_batch = div_batch\n",
    ")\n",
    "\n",
    "\n",
    "# print(' ')\n",
    "# print('-----------------------------------------------------------------------------------------------------')\n",
    "# print('----------------------------------------------------RESULT-------------------------------------------')\n",
    "# print('-----------------------------------------------------------------------------------------------------')\n",
    "# print(' ')\n",
    "\n",
    "# print('A_final')\n",
    "# print(' ')\n",
    "# print(A_final)\n",
    "# print(' ')\n",
    "# print('B_final')\n",
    "# print(' ')\n",
    "# print(B_final)\n",
    "# print(' ')\n",
    "# print('C_final')\n",
    "# print(' ')\n",
    "# print(np.dot(A_final, B_final))\n"
   ]
  },
  {
   "cell_type": "markdown",
   "metadata": {},
   "source": [
    "# Verification\n",
    "— a verification that your code is working: the reconstructed ratings that your code produces should be significantly higher correlated with the actual ratings than just randomly generated numbers. You need to submit the verification part (i.e. the code snippet that performs such verification) as a part of your submission."
   ]
  },
  {
   "cell_type": "code",
   "execution_count": 26,
   "metadata": {
    "scrolled": true
   },
   "outputs": [
    {
     "name": "stdout",
     "output_type": "stream",
     "text": [
      "(943, 19)\n"
     ]
    }
   ],
   "source": [
    "A_random = np.random.rand(n_users, n_genres)\n",
    "B_random = np.random.rand(n_genres, n_movies)\n",
    "print(np.shape(A_random))"
   ]
  },
  {
   "cell_type": "code",
   "execution_count": 27,
   "metadata": {
    "scrolled": false
   },
   "outputs": [
    {
     "name": "stdout",
     "output_type": "stream",
     "text": [
      "Real error:  0.8654423606453591\n",
      "Randomized error:  22.096013237439482\n",
      "Improvement factor:  25.53146719206409\n"
     ]
    }
   ],
   "source": [
    "C_error = mean_squared_error( C, np.dot(A_final , B_final) )\n",
    "C_error_rand = mean_squared_error( C, np.dot(A_random , B_random) )\n",
    "\n",
    "print('Real error: ' , C_error)\n",
    "print('Randomized error: ', C_error_rand )\n",
    "print('Improvement factor: ', C_error_rand / C_error)"
   ]
  },
  {
   "cell_type": "code",
   "execution_count": null,
   "metadata": {
    "scrolled": false
   },
   "outputs": [],
   "source": [
    "obj_f(A_final, B_final)"
   ]
  },
  {
   "cell_type": "code",
   "execution_count": null,
   "metadata": {
    "scrolled": false
   },
   "outputs": [],
   "source": [
    "B_final"
   ]
  },
  {
   "cell_type": "markdown",
   "metadata": {},
   "source": [
    "# Optimization for hyperparameters"
   ]
  },
  {
   "cell_type": "code",
   "execution_count": null,
   "metadata": {},
   "outputs": [],
   "source": [
    "div_batch = np.linspace(0, 100 , 5, endpoint=False)[1:]\n",
    "print(div_batch)"
   ]
  },
  {
   "cell_type": "code",
   "execution_count": null,
   "metadata": {},
   "outputs": [],
   "source": [
    "# Initalize\n",
    "#Other settings for hyperparameter optimization\n",
    "div = 5\n",
    "iter_max = 10\n",
    "\n",
    "from itertools import product\n",
    "\n",
    "alpha_init = np.linspace(0, 0.01, div, endpoint=False)[1:]\n",
    "eta = np.linspace(0, 1, div, endpoint=False)[1:]\n",
    "xi = np.linspace(0, 1, div, endpoint=False)[1:]\n",
    "div_batch = np.linspace(0, 100 , 5, endpoint=False)[1:]\n",
    "\n",
    "n_ele = len(eta)*len(xi)*len(alpha_init)*len(div_batch)\n",
    "vec_hyperpara = []\n",
    "\n",
    "print('Number of tests: ', n_ele)\n",
    "\n",
    "# hours = [tests]*[sec/test]*[sec/min]**(-1)*[min/hour]**(-1)"
   ]
  },
  {
   "cell_type": "code",
   "execution_count": null,
   "metadata": {},
   "outputs": [],
   "source": [
    "for alpha_init, eta, xi, div_batch in product( alpha_init, eta, xi, div_batch):\n",
    "    vec_hyperpara.append([alpha_init, eta, xi, div_batch])\n",
    "\n",
    "sol_list = []\n",
    "for p in range(n_ele):\n",
    "    \n",
    "    print('To Go:', n_ele - p)\n",
    "    \n",
    "    alpha_init, eta, xi, div_batch = vec_hyperpara[p]  \n",
    "\n",
    "    A_final , B_final, Y = optimizer(\n",
    "        \n",
    "        # Initalize\n",
    "        obj_f,\n",
    "        A_init,\n",
    "        B_init,\n",
    "        C, \n",
    "        tol = 0.01,\n",
    "        max_iter = iter_max,\n",
    "        \n",
    "        # Hyper parameters\n",
    "        alpha_init = alpha_init,\n",
    "        eta = eta,\n",
    "        xi = xi,\n",
    "        div_batch = div_batch\n",
    "    )\n",
    "    sol = obj_f(A_final, B_final)\n",
    "    sol_list.append(sol)    \n",
    "\n",
    "minpos = sol_list.index(min(sol_list))\n",
    "best_hyperpara = vec_hyperpara[minpos]"
   ]
  },
  {
   "cell_type": "code",
   "execution_count": null,
   "metadata": {
    "scrolled": true
   },
   "outputs": [],
   "source": [
    "plt.plot(cplr)\n",
    "plt.show()print('best hyperparamters:', index)  \n",
    "print('best hyperparamters:', best_hyperpara)\n",
    "print(min(sol_list))"
   ]
  },
  {
   "cell_type": "markdown",
   "metadata": {},
   "source": [
    "## Print final result"
   ]
  },
  {
   "cell_type": "code",
   "execution_count": null,
   "metadata": {},
   "outputs": [],
   "source": [
    "alpha_init, eta, xi, div_batch = best_hyperpara\n",
    "\n",
    "A_final , B_final, Y = optimizer(\n",
    "\n",
    "    # Initalize\n",
    "    obj_f,\n",
    "    A_init,\n",
    "    B_init,\n",
    "    C, \n",
    "    tol = 0.01,\n",
    "    max_iter = 300,\n",
    "\n",
    "    # Hyper parameters\n",
    "    alpha_init = alpha_init,\n",
    "    eta = eta,\n",
    "    xi = xi,\n",
    "    div_batch = div_batch\n",
    ")"
   ]
  },
  {
   "cell_type": "markdown",
   "metadata": {},
   "source": [
    "## Verify final result"
   ]
  },
  {
   "cell_type": "code",
   "execution_count": null,
   "metadata": {},
   "outputs": [],
   "source": [
    "A_random = np.random.rand(n_users, n_genres)\n",
    "B_random = np.random.rand(n_genres, n_movies)\n",
    "print(np.shape(A_random))"
   ]
  },
  {
   "cell_type": "code",
   "execution_count": null,
   "metadata": {
    "scrolled": false
   },
   "outputs": [],
   "source": [
    "C_error = mean_squared_error(C, np.dot(A_final, B_final))\n",
    "C_error_rand = mean_squared_error(C, np.dot(A_random, B_random))\n",
    "\n",
    "print('Real error: ' , C_error)\n",
    "print('Randomized error: ', C_error_rand )\n",
    "print('Improvement factor: ', C_error_rand/C_error)"
   ]
  },
  {
   "cell_type": "code",
   "execution_count": null,
   "metadata": {
    "scrolled": false
   },
   "outputs": [],
   "source": [
    "obj_f(A_final, B_final)"
   ]
  },
  {
   "cell_type": "code",
   "execution_count": null,
   "metadata": {
    "scrolled": true
   },
   "outputs": [],
   "source": [
    "plt.plot(A_final)\n",
    "plt.show()"
   ]
  },
  {
   "cell_type": "code",
   "execution_count": null,
   "metadata": {
    "scrolled": true
   },
   "outputs": [],
   "source": [
    "plt.plot(B_final)\n",
    "plt.show()"
   ]
  },
  {
   "cell_type": "markdown",
   "metadata": {},
   "source": [
    "# Design choices\n",
    "\n",
    "— a short (half a page) description of your design choices. I will be especially interested in what challenges you have faced while coding and what ideas you have used to overcome those challenges.\n",
    "\n",
    "— a description of task division between alex and berend"
   ]
  },
  {
   "cell_type": "markdown",
   "metadata": {},
   "source": [
    "### Design choics, challenges and ideas"
   ]
  },
  {
   "cell_type": "markdown",
   "metadata": {},
   "source": [
    "An analytical version of the gradient is essential to improve speed, as approximations with such an amount of variables is computationally infeasible for our student laptops. Therefore, we have constructed the actual analytical derivative of the objective function and implemented that in Python.\n",
    "\n",
    "Stochastic gradient descent is a great way in large matrices in order to increase the speed of the algorithm during optimization. Otherwise, the complete gradient matrices of A(u,g) and B(g,m) would have to be computed at every iteration, resulting in unnecessary computational complexity\n",
    "\n",
    "The way we have implemented this, is that during each iteration div_batch splits the original size of the users into segments of batch_size_users = (n_users / div_batch ). As well as for the batch_size_movies = (n_movies / div_batch). The div_batch value is alternated, such that sometimes the batch size will be higher or lower, depending on the iteration. Therefore, the gradient approximation precision is increased or decreased depending on the iteration to ensure stability.\n",
    "\n",
    "After that, these values are passed to the gradient function. Inside the gradient function a random number picks corresponding rows and columns of both the A(u,g) and B(g,m) matrices. Of course, the randomization has to correspond to the original objective function derivatives. This results in an approximate gradient at each iteration, but computationally inexpensive.\n",
    "\n",
    "However, because of the stochastic gradient descent, at each iteration an approximate gradient is provided which could be pointing in the wrong direction. This gradient can sometimes differ from the real gradient of the objective function at that particular iteration. \n",
    "\n",
    "Therefore, a momentum implementation ensures that the noise produced by our approximate derivatives gets reduced. Such an implementation accounts for the exponentially weighted average direction of the previous iterations. Keeping the current vector in a more steady direction.\n",
    "\n",
    "Finally,  in order to find the best solution possible, a hyperparameter optimization scheme is introduced. The parameters that are optimized are the following: the initial step size (alpha), the momentum variables (eta & xi), and the batch divider (div_batch). The batch divider is of course optimal when it's one, because that means you compute the exact gradient every iteration. However, as an extra verification method for the hyperparameter optimization, the expected value of the optimized batch divider is the lowest one tried (20).\n",
    "\n",
    "The initial step size is of importance to be able to converge quickly and accurately to the correct  solution. The momentum variable eta keeps track of the importance of the past gradients, whilst the xi parameter values the current gradient for the next step direction. Finally, the div_batch  parameter decides on the batch size to be used during optimization. Different combinations can yield different results."
   ]
  },
  {
   "cell_type": "markdown",
   "metadata": {},
   "source": [
    "### Description of task division"
   ]
  },
  {
   "cell_type": "markdown",
   "metadata": {},
   "source": [
    "Mostly, Alex and I worked together: duo-coding. In order to individualize things there exists the following list:\n",
    "\n",
    "Alex:\n",
    "- Getting the initial score matrice S(i,j)\n",
    "- Batching of the gradient computation\n",
    "\n",
    "Berend:\n",
    "- Running the notebook on the actual dataset\n",
    "- Correct implementation for the hyperparameter optimization\n",
    "- Design choices & task division description"
   ]
  }
 ],
 "metadata": {
  "kernelspec": {
   "display_name": "python3",
   "language": "python",
   "name": "python3"
  },
  "language_info": {
   "codemirror_mode": {
    "name": "ipython",
    "version": 3
   },
   "file_extension": ".py",
   "mimetype": "text/x-python",
   "name": "python",
   "nbconvert_exporter": "python",
   "pygments_lexer": "ipython3",
   "version": "3.8.5"
  }
 },
 "nbformat": 4,
 "nbformat_minor": 4
}
