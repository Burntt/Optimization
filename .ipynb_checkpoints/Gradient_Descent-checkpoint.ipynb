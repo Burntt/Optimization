{
 "cells": [
  {
   "cell_type": "code",
   "execution_count": 238,
   "metadata": {},
   "outputs": [],
   "source": [
    "import numpy as np"
   ]
  },
  {
   "cell_type": "code",
   "execution_count": 239,
   "metadata": {},
   "outputs": [
    {
     "data": {
      "text/plain": [
       "15"
      ]
     },
     "execution_count": 239,
     "metadata": {},
     "output_type": "execute_result"
    }
   ],
   "source": [
    "np.finfo(np.double).precision"
   ]
  },
  {
   "cell_type": "code",
   "execution_count": 240,
   "metadata": {},
   "outputs": [],
   "source": [
    "def L2norm(vector):\n",
    "    sumsquares = np.sum(np.power(vector,2))\n",
    "    return sumsquares**(0.5)"
   ]
  },
  {
   "cell_type": "code",
   "execution_count": 241,
   "metadata": {},
   "outputs": [
    {
     "name": "stdout",
     "output_type": "stream",
     "text": [
      "3.7416573867739413\n"
     ]
    }
   ],
   "source": [
    "# test L2 norm\n",
    "\n",
    "print(L2norm(np.array([1, 2, 3])))"
   ]
  },
  {
   "cell_type": "code",
   "execution_count": 242,
   "metadata": {},
   "outputs": [],
   "source": [
    "def f(x1, x2): \n",
    "    p = 4\n",
    "    q = 5\n",
    "    return (p-x1)**2+q*(x2-x1**2)**2\n",
    "tol = 0.00001\n",
    "initial = (10., 0.)"
   ]
  },
  {
   "cell_type": "code",
   "execution_count": 243,
   "metadata": {},
   "outputs": [],
   "source": [
    "def gradf(f, point, h):\n",
    "    x1 = point[0]\n",
    "    x2 = point[1]\n",
    "    \n",
    "    fx1x2 = f(*(point))\n",
    "    dfdx1 = (f(x1 + h, x2) - fx1x2) / h\n",
    "    dfdx2 = (f(x1, x2 + h) - fx1x2) / h\n",
    "                \n",
    "    gradf = np.array([dfdx1,dfdx2])\n",
    "    \n",
    "    return gradf, fx1x2\n",
    "\n",
    "def dfx(f, x, y, epsilon):\n",
    "    return (f(x + epsilon, y) - f(x, y)) / epsilon\n",
    "\n",
    "def dfy(f, x, y, epsilon):\n",
    "    return (f(x, y + epsilon) - f(x, y)) / epsilon"
   ]
  },
  {
   "cell_type": "code",
   "execution_count": 244,
   "metadata": {},
   "outputs": [],
   "source": [
    "def arm_cond1(point, c, alpha, gradf, fx1x2):  \n",
    "    term1 = fx1x2\n",
    "    term2 = f(*(point - alpha*gradf))\n",
    "    term3 = c*alpha*( (L2norm(gradf))**2)  \n",
    "    return term1 - term2 - term3"
   ]
  },
  {
   "cell_type": "code",
   "execution_count": 245,
   "metadata": {},
   "outputs": [],
   "source": [
    "def arm_cond2(point, c, alpha, beta, gradf, fx1x2):\n",
    "    term1 = fx1x2    \n",
    "    term2 = f(*(point - beta**(-1)*alpha*gradf))  \n",
    "    term3 = c*beta**(-1)*alpha*( (L2norm(gradf))**2 )\n",
    "    return term1 - term2 - term3"
   ]
  },
  {
   "cell_type": "code",
   "execution_count": null,
   "metadata": {
    "scrolled": true
   },
   "outputs": [],
   "source": [
    "def min_banana(f, initial, tol):\n",
    "    # tolerance for derivative finding\n",
    "    h = tol\n",
    "    c = 0.8\n",
    "    beta = 1/3.0\n",
    "    zeta = 0.9\n",
    "    \n",
    "    #Actual code\n",
    "    point_old = np.array(initial)\n",
    "    w_mom = np.array([0]*len(initial))\n",
    "    prev_gradient = np.array([0]*len(initial))\n",
    "    \n",
    "    gradf_old, fx1x2 = gradf(f, point_old, h)\n",
    "                     \n",
    "    for _ in range(100):\n",
    "        alpha = 1\n",
    "        \n",
    "        while ( arm_cond2(point_old, c, alpha, beta, gradf_old, fx1x2) < 0):\n",
    "            alpha *= beta \n",
    "        while ( not arm_cond1(point_old, c, alpha, gradf_old, fx1x2) >= 0):\n",
    "            alpha = alpha / beta\n",
    "            \n",
    "        #Momentum\n",
    "        gradf_curr = zeta*prev_gradient - alpha*gradf_old      \n",
    "        w_mom = w_mom + gradf_curr        \n",
    "        gradf_old = gradf_curr\n",
    "\n",
    "        #Update rule\n",
    "        point_curr = point_old - alpha*gradf_old\n",
    "        point_old = point_curr \n",
    "        \n",
    "    return point_curr\n",
    "\n",
    "result = min_banana(f, initial, tol)\n",
    "print(result[0], result[1])"
   ]
  },
  {
   "cell_type": "code",
   "execution_count": 258,
   "metadata": {
    "scrolled": true
   },
   "outputs": [
    {
     "name": "stdout",
     "output_type": "stream",
     "text": [
      "3.8787811578134432 15.043184400013946\n"
     ]
    }
   ],
   "source": [
    "def dfx(f, x, y, epsilon):\n",
    "    return (f(x + epsilon, y) - f(x, y)) / epsilon\n",
    "\n",
    "def dfy(f, x, y, epsilon):\n",
    "    return (f(x, y + epsilon) - f(x, y)) / epsilon\n",
    "\n",
    "def arm_cond_1(alpha, c, point, gradient):\n",
    "    return f(point[0], point[1]) - c * alpha * (gradient[0]**2 + gradient[1]**2) - f(point[0] - alpha * gradient[0], point[1] - alpha * gradient[1])\n",
    "\n",
    "def arm_cond_2(alpha, beta, c, point, gradient):\n",
    "    return f(point[0], point[1]) - c * (alpha / beta) * (gradient[0]**2 + gradient[1]**2) - f(point[0] - (alpha / beta) * gradient[0], point[1] - (alpha / beta) * gradient[1])\n",
    "\n",
    "def min_banana(f, tol, initial):\n",
    "    # set initial point\n",
    "    point_old = initial\n",
    "    \n",
    "    # set armijo variables\n",
    "    beta = 1/3.0\n",
    "    c = 0.8\n",
    "    \n",
    "    for _ in range(10000):\n",
    "        #print(' --------------')\n",
    "        gradient_old = (dfx(f, point_old[0], point_old[1], tol), dfy(f, point_old[0], point_old[1], tol))\n",
    "        alpha = 1\n",
    "        \n",
    "        #print(gradient_old)\n",
    "        \n",
    "        #print('BEFORE C2')\n",
    "        while arm_cond_2(alpha, beta, c, point_old, gradient_old) < 0:\n",
    "            #print('C2 || alpha: ', alpha, '|| cond2 value', arm_cond_2(alpha, beta, c, point_old, gradient_old))\n",
    "            alpha *= beta\n",
    "        \n",
    "        #print('AFTER C2')\n",
    "        #print('C2 || alpha: ', alpha, '|| cond2 value', arm_cond_2(alpha, beta, c, point_old, gradient_old), '\\n')\n",
    "            \n",
    "        #print('BEFORE C1')\n",
    "        while arm_cond_1(alpha, c, point_old, gradient_old) >= 0:\n",
    "            #print('C1|| alpha: ', alpha, '|| cond1 value', arm_cond_1(alpha, c, point_old, gradient_old))\n",
    "            alpha = alpha / beta\n",
    "        \n",
    "#         print('AFTER C1')\n",
    "#         print('C1|| alpha: ', alpha, '|| cond1 value', arm_cond_1(alpha, c, point_old, gradient_old))\n",
    "        point_current = (point_old[0] - (alpha * gradient_old[0]), point_old[1] - (alpha * gradient_old[1]))\n",
    "        point_old = point_current\n",
    "    return point_current\n",
    "\n",
    "\n",
    "print(min_banana(f, tol, initial)[0], min_banana(f, tol, initial)[1])"
   ]
  }
 ],
 "metadata": {
  "kernelspec": {
   "display_name": "python3",
   "language": "python",
   "name": "python3"
  },
  "language_info": {
   "codemirror_mode": {
    "name": "ipython",
    "version": 3
   },
   "file_extension": ".py",
   "mimetype": "text/x-python",
   "name": "python",
   "nbconvert_exporter": "python",
   "pygments_lexer": "ipython3",
   "version": "3.8.5"
  },
  "widgets": {
   "application/vnd.jupyter.widget-state+json": {
    "state": {},
    "version_major": 2,
    "version_minor": 0
   }
  }
 },
 "nbformat": 4,
 "nbformat_minor": 4
}
