{
 "cells": [
  {
   "cell_type": "code",
   "execution_count": 1,
   "metadata": {},
   "outputs": [],
   "source": [
    "from math import sin\n",
    "a = 2.\n",
    "b = 7.\n",
    "tol = 0.000001\n",
    "f = sin"
   ]
  },
  {
   "cell_type": "code",
   "execution_count": 2,
   "metadata": {},
   "outputs": [
    {
     "name": "stdout",
     "output_type": "stream",
     "text": [
      "4.712387543833756\n"
     ]
    }
   ],
   "source": [
    "def df(x,dx):\n",
    "    return (f( x + dx ) - f( x - dx )) / ( 2*dx ) \n",
    "\n",
    "def cond1(alpha, c1, x, dfx):\n",
    "    return f(x) - f(x-alpha*dfx) - c1*alpha*dfx**2 >= 0\n",
    "\n",
    "def cond2(alpha, c1, beta, x, dfx):\n",
    "    return f(x) - f( x - beta**(-1)*alpha*dfx ) - c1*beta**(-2)*alpha*dfx**2 < 0\n",
    "       \n",
    "def armijo(a, b, f, tol):\n",
    "    c1 = 0.8\n",
    "    c2 = 3\n",
    "    beta = (1/c2)\n",
    "    x_old = (a + b) / 2 \n",
    "\n",
    "    while True:\n",
    "        alpha = 1\n",
    "        \n",
    "        #Find initial parameters\n",
    "        dfx_old = df(x_old, tol)    \n",
    "        \n",
    "        #Check condition 1 and adapt slope to avoid big steps\n",
    "        while ( not cond1(alpha, c1, x_old, dfx_old) ) :\n",
    "            #print('cond1 changed alpha to : ', alpha)\n",
    "            alpha = alpha*c1\n",
    "        \n",
    "        #Check condition 2 and adapt slope to avoid small steps\n",
    "        #print( cond2(alpha, c1, beta, x_old, dfx_old) )\n",
    "        while ( not cond2(alpha, c1, beta, x_old, dfx_old) ):\n",
    "            #print('cond2 changed alpha to : ', alpha)\n",
    "            alpha = alpha*beta\n",
    "\n",
    "        #Update rule\n",
    "        x_curr = x_old- alpha*dfx_old\n",
    "        \n",
    "        #Exit condition\n",
    "        if abs(x_old - x_curr) < tol:\n",
    "            return x_curr\n",
    "        \n",
    "        #Pass to next loop\n",
    "        x_old = x_curr\n",
    "\n",
    "        #print('x = ' + str(x_curr))\n",
    "\n",
    "    \n",
    "x = armijo(a, b, f, tol)\n",
    "print(x)"
   ]
  }
 ],
 "metadata": {
  "kernelspec": {
   "display_name": "python3",
   "language": "python",
   "name": "python3"
  },
  "language_info": {
   "codemirror_mode": {
    "name": "ipython",
    "version": 3
   },
   "file_extension": ".py",
   "mimetype": "text/x-python",
   "name": "python",
   "nbconvert_exporter": "python",
   "pygments_lexer": "ipython3",
   "version": "3.8.5"
  }
 },
 "nbformat": 4,
 "nbformat_minor": 4
}
