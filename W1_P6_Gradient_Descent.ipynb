{
 "cells": [
  {
   "cell_type": "code",
   "execution_count": 162,
   "metadata": {},
   "outputs": [],
   "source": [
    "import numpy as np\n",
    "\n",
    "def L2norm(vector):\n",
    "    sumsquares = np.sum(np.power(vector,2))\n",
    "    return sumsquares**(0.5)"
   ]
  },
  {
   "cell_type": "code",
   "execution_count": 163,
   "metadata": {},
   "outputs": [],
   "source": [
    "def gradf(f, x, n, gamma, valf=None):\n",
    "    if valf is None:\n",
    "        valf = f(x)\n",
    "    grad_approx = [-valf for j in range(n)]\n",
    "    for j in range(n):\n",
    "        grad_approx[j] += f(x[:j] + [x[j]+gamma] + x[j+1:])\n",
    "        grad_approx[j] /= gamma\n",
    "    return (grad_approx, valf)"
   ]
  },
  {
   "cell_type": "code",
   "execution_count": 164,
   "metadata": {},
   "outputs": [],
   "source": [
    "def arm_cond1(point, c, alpha, gradf, stepdir, fx1x2):  \n",
    "    term1 = fx1x2\n",
    "    term2 = f(*(point - alpha*stepdir))\n",
    "    term3 = c*alpha*( np.dot(stepdir, gradf) )  \n",
    "    return term1 - term2 - term3"
   ]
  },
  {
   "cell_type": "code",
   "execution_count": 165,
   "metadata": {},
   "outputs": [],
   "source": [
    "def arm_cond2(point, c, alpha, beta, gradf, stepdir, fx1x2):\n",
    "    term1 = fx1x2    \n",
    "    term2 = f(*(point - beta**(-1)*alpha*stepdir))  \n",
    "    term3 = c*beta**(-1)*alpha*( np.dot(stepdir, gradf) )\n",
    "    return term1 - term2 - term3"
   ]
  },
  {
   "cell_type": "code",
   "execution_count": 166,
   "metadata": {
    "scrolled": false
   },
   "outputs": [
    {
     "ename": "SyntaxError",
     "evalue": "invalid syntax (<ipython-input-166-387bf4d6a7cb>, line 22)",
     "output_type": "error",
     "traceback": [
      "\u001b[0;36m  File \u001b[0;32m\"<ipython-input-166-387bf4d6a7cb>\"\u001b[0;36m, line \u001b[0;32m22\u001b[0m\n\u001b[0;31m    gradf_old, fx1x2 = gradf(f, point_old, ,)\u001b[0m\n\u001b[0m                                           ^\u001b[0m\n\u001b[0;31mSyntaxError\u001b[0m\u001b[0;31m:\u001b[0m invalid syntax\n"
     ]
    }
   ],
   "source": [
    "def optimizer(f, initial, tolerance, max_iter, c):\n",
    "    x_current = initial\n",
    "    n = len(initial)\n",
    "    \n",
    "    for i in range(max_iter):\n",
    "        \n",
    "        gamma = tol/(i+1)\n",
    "        \n",
    "        grad_approx, valf = approximate_gradient(\n",
    "            f, \n",
    "            x_current, \n",
    "            n,\n",
    "            gamma\n",
    "        )\n",
    "        \n",
    "        alpha = 1.\n",
    "        \n",
    "        while armijo(f, grad_approx, x_current, c, alpha * 1.5):\n",
    "            alpha *= 1.5\n",
    "        max_iter_armijo = 100\n",
    "        cur_iter_armijo = 0\n",
    "        while not armijo(f, grad_approx, x_current, c, alpha):\n",
    "            alpha *= 0.5        \n",
    "            cur_iter_armijo += 1\n",
    "            if cur_iter_armijo > max_iter_armijo:\n",
    "                return x_current\n",
    "        \n",
    "        x_next = [x_current[j] - alpha * grad_approx[j] for j in range(n)]\n",
    "        x_current = x_next   \n",
    "        \n",
    "#         print(grad_approx, tol**3)       \n",
    "#         if all(grad_approx) < tol**3:\n",
    "#             print('reached optimal point')\n",
    "        \n",
    "    return x_current"
   ]
  },
  {
   "cell_type": "code",
   "execution_count": null,
   "metadata": {
    "scrolled": false
   },
   "outputs": [],
   "source": [
    "def fx1x2(x1, x2): \n",
    "    p = 1\n",
    "    q = 10\n",
    "    return (p-x1)**2+q*(x2-x1**2)**2\n",
    "\n",
    "def f(x):\n",
    "    return fx1x2(x[0], x[1])\n",
    "\n",
    "tol = 0.00001\n",
    "initial = (0., 0.)\n",
    "\n",
    "initial = list(initial)"
   ]
  },
  {
   "cell_type": "code",
   "execution_count": null,
   "metadata": {
    "scrolled": false
   },
   "outputs": [],
   "source": [
    "result,iteration = min_banana(f, initial, tol)\n",
    "print(result[0], result[1])\n",
    "print(iteration)\n",
    "\n",
    "# Hyperparamterize c in range() , np linspace etc to test for the best hyperparameters\n"
   ]
  }
 ],
 "metadata": {
  "kernelspec": {
   "display_name": "python3",
   "language": "python",
   "name": "python3"
  },
  "language_info": {
   "codemirror_mode": {
    "name": "ipython",
    "version": 3
   },
   "file_extension": ".py",
   "mimetype": "text/x-python",
   "name": "python",
   "nbconvert_exporter": "python",
   "pygments_lexer": "ipython3",
   "version": "3.8.5"
  },
  "widgets": {
   "application/vnd.jupyter.widget-state+json": {
    "state": {},
    "version_major": 2,
    "version_minor": 0
   }
  }
 },
 "nbformat": 4,
 "nbformat_minor": 4
}
