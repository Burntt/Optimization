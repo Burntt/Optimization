{
 "cells": [
  {
   "cell_type": "code",
   "execution_count": 1,
   "metadata": {},
   "outputs": [],
   "source": [
    "import numpy as np\n",
    "from math import sqrt"
   ]
  },
  {
   "cell_type": "code",
   "execution_count": 2,
   "metadata": {},
   "outputs": [],
   "source": [
    "def norm(x):\n",
    "    return sqrt(sum(t**2 for t in x))\n",
    "\n",
    "def sqrnorm(x):\n",
    "    return sum(t**2 for t in x)\n",
    "\n",
    "def L2norm(vector):\n",
    "    sumsquares = np.sum(np.power(vector,2))\n",
    "    return sumsquares**(0.5)"
   ]
  },
  {
   "cell_type": "code",
   "execution_count": 3,
   "metadata": {},
   "outputs": [],
   "source": [
    "def non_approximate_gradient(x):\n",
    "    gradient = np.zeros(len(x))\n",
    "    for k in range(len(x)):\n",
    "        result = 0\n",
    "        for i in range(len(x)):\n",
    "            result += A[i, k] * (np.dot(A[i], x) - b[i])\n",
    "        gradient[k] = 2 * result\n",
    "    return gradient"
   ]
  },
  {
   "cell_type": "code",
   "execution_count": 4,
   "metadata": {},
   "outputs": [],
   "source": [
    "def armijo(f, grad_approx, x, c, alpha, stepdir):\n",
    "    return (\n",
    "        f(np.array(x - alpha*stepdir)) < f(x) - c * alpha*( np.dot(stepdir, grad_approx) )\n",
    "    )"
   ]
  },
  {
   "cell_type": "code",
   "execution_count": 5,
   "metadata": {},
   "outputs": [],
   "source": [
    "def optimizer(f, initial, tolerance, max_iter, c, c1 ,c2):\n",
    "    x_current = initial\n",
    "    n = len(initial)\n",
    "    acc_x = np.array([0]*len(initial))\n",
    "    \n",
    "    iteration = 0\n",
    "    \n",
    "    for i in range(max_iter):\n",
    "        \n",
    "        #print('-------------------')\n",
    "        \n",
    "        grad_approx = non_approximate_gradient(x_current)\n",
    "        \n",
    "        alpha = 1.\n",
    "        \n",
    "        stepdir = c1*acc_x + c2*grad_approx\n",
    "        \n",
    "        while armijo(f, grad_approx, x_current, c, alpha * 1.5, stepdir):\n",
    "            alpha *= 1.5\n",
    "        max_iter_armijo = 100\n",
    "        cur_iter_armijo = 0\n",
    "        while not armijo(f, grad_approx, x_current, c, alpha, stepdir):\n",
    "            alpha *= 0.5        \n",
    "            cur_iter_armijo += 1\n",
    "            if cur_iter_armijo > max_iter_armijo:\n",
    "                return x_current\n",
    "              \n",
    "        x_next = list(x_current - alpha * stepdir)\n",
    "        x_current = x_next   \n",
    "        \n",
    "        acc_x = stepdir\n",
    "        iteration = iteration + 1\n",
    "        \n",
    "        #print('alpha | grad ', alpha, grad_approx)\n",
    "        \n",
    "    return list(x_current)"
   ]
  },
  {
   "cell_type": "markdown",
   "metadata": {},
   "source": [
    "# Enter sample input"
   ]
  },
  {
   "cell_type": "code",
   "execution_count": 6,
   "metadata": {},
   "outputs": [],
   "source": [
    "A = [[0.99, 0.87, 0.51, 0.27], [0.34, 0.22, 0.28, 0.34], [0.86, 0.16, 0.14, 0.76], [0.74, 0.36, 0.34, 0.67]]\n",
    "b = [0.22, 0.56, 0.12, 0.32]\n",
    "tol = 0.001"
   ]
  },
  {
   "cell_type": "code",
   "execution_count": 7,
   "metadata": {},
   "outputs": [],
   "source": [
    "def f(x):\n",
    "    return np.sum((np.dot(A, x) - b)**2)\n",
    "\n",
    "A = np.array(A)\n",
    "initial = [0]*(A.shape[0])"
   ]
  },
  {
   "cell_type": "code",
   "execution_count": 8,
   "metadata": {},
   "outputs": [
    {
     "name": "stdout",
     "output_type": "stream",
     "text": [
      "[-0.6864605413088479, -0.3381785822220916, 2.009399843315223, 0.5624884987942822]\n"
     ]
    }
   ],
   "source": [
    "c , c1 , c2 =  [0.30000000000000004, 0.30000000000000004, 0.1]\n",
    "\n",
    "sol = optimizer(f, initial, tol, max_iter=10000, c = c, c1 = c1 , c2 = c2) \n",
    "print(sol)"
   ]
  },
  {
   "cell_type": "markdown",
   "metadata": {},
   "source": [
    "# Optimization for hyperparameters"
   ]
  },
  {
   "cell_type": "code",
   "execution_count": 9,
   "metadata": {
    "scrolled": true
   },
   "outputs": [
    {
     "name": "stdout",
     "output_type": "stream",
     "text": [
      "CARE CARE CARE CARE\n",
      "CARE CARE CARE CARE\n",
      "CARE CARE CARE CARE\n",
      "CARE CARE CARE CARE\n",
      "The final coordinates the your require for optimization are:\n",
      "[1.9250001434580333, -4.800059678539262, 6.003006880246984, -2.115673076371321]\n",
      "best hyperparameters || c , c1 , c2 =  [0.30000000000000004, 0.30000000000000004, 0.1]\n"
     ]
    }
   ],
   "source": [
    "# INPUT FINAL COORDINATES!!\n",
    "# INPUT FINAL COORDINATES!!\n",
    "# INPUT FINAL COORDINATES!!\n",
    "print('CARE CARE CARE CARE')\n",
    "print('CARE CARE CARE CARE')\n",
    "print('CARE CARE CARE CARE')\n",
    "print('CARE CARE CARE CARE')\n",
    "print('The final coordinates the your require for optimization are:')\n",
    "final_coord_vec = [1.9250001434580333, -4.800059678539262, 6.003006880246984, -2.115673076371321]\n",
    "print(final_coord_vec)\n",
    "\n",
    "#Other settings for hyperparameter optimization\n",
    "div = 10\n",
    "iter_max = 100\n",
    "\n",
    "from itertools import product\n",
    "\n",
    "c = np.linspace(0, 1, div, endpoint=False)[1:]\n",
    "c1 = np.linspace(0, 1, div, endpoint=False)[1:]\n",
    "c2 = np.linspace(0, 1, div, endpoint=False)[1:]\n",
    "\n",
    "n_ele = len(c)*len(c1)*len(c2)\n",
    "vec_hyperpara = []\n",
    "for c, c1, c2 in product(c, c1, c2):\n",
    "    vec_hyperpara.append([c, c1, c2])\n",
    "    \n",
    "list_of_error = []\n",
    "list_of_norm = []\n",
    "for p in range(n_ele):\n",
    "    c_init, c1_init, c2_init = vec_hyperpara[p]  \n",
    "    sol = optimizer(f, initial, tol, max_iter = iter_max, c = c_init, c1 = c1_init, c2 = c2_init)\n",
    "    list_of_error.append( list(np.array(sol) - final_coord_vec) )\n",
    "    list_of_norm.append( L2norm(list_of_error[p]) )\n",
    "minpos = list_of_norm.index(min(list_of_norm))\n",
    "best_hyperpara = vec_hyperpara[minpos]\n",
    "\n",
    "print('best hyperparameters || c , c1 , c2 = ', best_hyperpara)\n",
    "\n",
    "c , c1 , c2 = best_hyperpara\n",
    "\n",
    "# TEST 1 # 10,100 ##  c , c1 , c2 =  [0.30000000000000004, 0.30000000000000004, 0.1]\n",
    "# TEST 1 # 20,100 ##  c , c1 , c2 =  [0.15000000000000002, 0.35000000000000003, 0.05]\n",
    "\n",
    "#c , c1 , c2 =  [0.15000000000000002, 0.35000000000000003, 0.05]"
   ]
  },
  {
   "cell_type": "markdown",
   "metadata": {},
   "source": [
    "# Print final solution"
   ]
  },
  {
   "cell_type": "code",
   "execution_count": 10,
   "metadata": {
    "scrolled": true
   },
   "outputs": [
    {
     "name": "stdout",
     "output_type": "stream",
     "text": [
      "[1.9250001434485478, -4.800059678523105, 6.003006880232617, -2.1156730763615874]\n"
     ]
    }
   ],
   "source": [
    "sol = optimizer(f, initial, tol, max_iter=10000, c = c, c1 = c1 , c2 = c2) \n",
    "print(sol)"
   ]
  }
 ],
 "metadata": {
  "kernelspec": {
   "display_name": "python3",
   "language": "python",
   "name": "python3"
  },
  "language_info": {
   "codemirror_mode": {
    "name": "ipython",
    "version": 3
   },
   "file_extension": ".py",
   "mimetype": "text/x-python",
   "name": "python",
   "nbconvert_exporter": "python",
   "pygments_lexer": "ipython3",
   "version": "3.8.5"
  }
 },
 "nbformat": 4,
 "nbformat_minor": 4
}
