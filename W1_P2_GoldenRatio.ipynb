{
 "cells": [
  {
   "cell_type": "code",
   "execution_count": 2,
   "metadata": {},
   "outputs": [],
   "source": [
    "from math import sin\n",
    "a = 2.\n",
    "b = 7.\n",
    "tol = 0.000001\n",
    "f = sin"
   ]
  },
  {
   "cell_type": "code",
   "execution_count": 3,
   "metadata": {},
   "outputs": [
    {
     "name": "stdout",
     "output_type": "stream",
     "text": [
      "4.712388936680854\n"
     ]
    }
   ],
   "source": [
    "import numpy as np\n",
    "\n",
    "def gsection(f, a, b, tol):\n",
    "    # Golden Ratio\n",
    "    gr1 = (np.sqrt(5) - 1)/2\n",
    "    gr2 = (3 - np.sqrt(5))/2 \n",
    "    \n",
    "    # Evaluate function at upper and lower bound\n",
    "    fa = f(a)\n",
    "    fb = f(b)\n",
    "    \n",
    "    # Compute two new points which correspond to golden ratio\n",
    "    width = b - a\n",
    "    \n",
    "    c = a + gr2*width\n",
    "    #c = b - gr1*width\n",
    "    #c = a + gr1**2*width\n",
    "    \n",
    "    \n",
    "    d = a + gr1*width\n",
    "    \n",
    "    fc = f(c)\n",
    "    fd = f(d)\n",
    "    \n",
    "    while (b - a) > tol:     \n",
    "        if fc < fd:\n",
    "            b = d \n",
    "            d = c\n",
    "            \n",
    "            fd = fc\n",
    "            \n",
    "            width = gr1*width\n",
    "            c = b - gr1*width\n",
    "            #c = a + gr2*width\n",
    "            fc = f(c)\n",
    "          \n",
    "        else:     \n",
    "            a = c\n",
    "            fa = fc\n",
    "            \n",
    "            c = d\n",
    "            fc = fd\n",
    "            \n",
    "            width = gr1*width\n",
    "            d = a + gr1*width\n",
    "            fd = f(d)\n",
    "    if fc < fd:\n",
    "        return (a, d)\n",
    "    else:\n",
    "        return (c, b)\n",
    "\n",
    "a,b = gsection(f, a, b, tol)\n",
    "\n",
    "max = (a+b)/2\n",
    "print(max)"
   ]
  },
  {
   "cell_type": "code",
   "execution_count": 7,
   "metadata": {},
   "outputs": [
    {
     "name": "stdout",
     "output_type": "stream",
     "text": [
      "0.2360679774997897\n"
     ]
    }
   ],
   "source": [
    "width = 1\n",
    "\n",
    "\n",
    "gr1 = (np.sqrt(5) - 1)/2\n",
    "gr2 = (3 - np.sqrt(5))/2 \n",
    "\n",
    "c = gr1**2*width\n",
    "d = gr1*width\n",
    "\n",
    "print(d-c)"
   ]
  }
 ],
 "metadata": {
  "kernelspec": {
   "display_name": "python3",
   "language": "python",
   "name": "python3"
  },
  "language_info": {
   "codemirror_mode": {
    "name": "ipython",
    "version": 3
   },
   "file_extension": ".py",
   "mimetype": "text/x-python",
   "name": "python",
   "nbconvert_exporter": "python",
   "pygments_lexer": "ipython3",
   "version": "3.8.5"
  }
 },
 "nbformat": 4,
 "nbformat_minor": 4
}
