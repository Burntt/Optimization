{
 "cells": [
  {
   "cell_type": "code",
   "execution_count": 941,
   "metadata": {},
   "outputs": [],
   "source": [
    "import numpy as np\n",
    "from math import sqrt"
   ]
  },
  {
   "cell_type": "code",
   "execution_count": 942,
   "metadata": {},
   "outputs": [],
   "source": [
    "def norm(x):\n",
    "    return sqrt(sum(t**2 for t in x))\n",
    "\n",
    "def sqrnorm(x):\n",
    "    return sum(t**2 for t in x)\n",
    "\n",
    "def L2norm(vector):\n",
    "    sumsquares = np.sum(np.power(vector,2))\n",
    "    return sumsquares**(0.5)"
   ]
  },
  {
   "cell_type": "code",
   "execution_count": 943,
   "metadata": {},
   "outputs": [],
   "source": [
    "def approximate_gradient(f, x, n, gamma, valf=None):\n",
    "    if valf is None:\n",
    "        valf = f(x)\n",
    "    grad_approx = np.array([-valf]*n)\n",
    "    for j in range(n):\n",
    "        grad_approx[j] += f(x[:j] + [x[j]+gamma] + x[j+1:])\n",
    "        grad_approx[j] /= gamma\n",
    "    return (np.array(grad_approx), valf)"
   ]
  },
  {
   "cell_type": "code",
   "execution_count": 944,
   "metadata": {},
   "outputs": [],
   "source": [
    "def armijo(f, grad_approx, x, c, alpha, stepdir):\n",
    "    return (\n",
    "        f(np.array(x - alpha*stepdir)) < f(x) - c * alpha*( np.dot(stepdir, grad_approx) )\n",
    "    )\n"
   ]
  },
  {
   "cell_type": "code",
   "execution_count": 945,
   "metadata": {},
   "outputs": [],
   "source": [
    "def optimizer(f, initial, tolerance, max_iter, c, c1 ,c2):\n",
    "    x_current = initial\n",
    "    n = len(initial)\n",
    "    acc_x = np.array([0]*len(initial))\n",
    "    \n",
    "    iteration = 0\n",
    "    \n",
    "    for i in range(max_iter):\n",
    "        \n",
    "        gamma = tol/(i+1)\n",
    "        \n",
    "        grad_approx, valf = approximate_gradient(\n",
    "            f, \n",
    "            x_current, \n",
    "            n,\n",
    "            gamma\n",
    "        )\n",
    "        \n",
    "        alpha = 1.\n",
    "        \n",
    "        stepdir = c1*acc_x + c2*grad_approx\n",
    "        \n",
    "        while armijo(f, grad_approx, x_current, c, alpha * 1.5, stepdir):\n",
    "            alpha *= 1.5\n",
    "        max_iter_armijo = 100\n",
    "        cur_iter_armijo = 0\n",
    "        while not armijo(f, grad_approx, x_current, c, alpha, stepdir):\n",
    "            alpha *= 0.5        \n",
    "            cur_iter_armijo += 1\n",
    "            if cur_iter_armijo > max_iter_armijo:\n",
    "                return x_current\n",
    "              \n",
    "        x_next = list(x_current - alpha * stepdir)\n",
    "        x_current = x_next   \n",
    "        \n",
    "        acc_x = stepdir\n",
    "        iteration = iteration + 1\n",
    "        \n",
    "    return np.array(x_current), iteration"
   ]
  },
  {
   "cell_type": "code",
   "execution_count": 946,
   "metadata": {},
   "outputs": [],
   "source": [
    "def fx1x2(x1, x2): \n",
    "    p = 1\n",
    "    q = 10\n",
    "    return (p-x1)**2+q*(x2-x1**2)**2\n",
    "\n",
    "def f(x):\n",
    "    return fx1x2(x[0], x[1])\n",
    "\n",
    "tol = 0.00001\n",
    "initial = (0., 0.)\n",
    "initial = list(initial)"
   ]
  },
  {
   "cell_type": "code",
   "execution_count": 947,
   "metadata": {},
   "outputs": [
    {
     "name": "stdout",
     "output_type": "stream",
     "text": [
      "\n",
      " ================================================== \n",
      "\n",
      "Solution =  [0.9999999870952161, 0.9999999733151905]\n"
     ]
    }
   ],
   "source": [
    "#Print final solutions\n",
    "c = 0.81\n",
    "c1 = 0.81\n",
    "c2 = 0.13508517176729928\n",
    "\n",
    "\n",
    "print('\\n','==================================================','\\n')\n",
    "sol = optimizer(f, initial, tol, max_iter=1000000, c = c, c1 = c1 , c2 = c2) \n",
    "print('Solution = ' , sol)"
   ]
  },
  {
   "cell_type": "markdown",
   "metadata": {},
   "source": [
    "# Optimization for hyperparameters"
   ]
  },
  {
   "cell_type": "code",
   "execution_count": 948,
   "metadata": {},
   "outputs": [
    {
     "name": "stdout",
     "output_type": "stream",
     "text": [
      "================================\n",
      "           IMPROVE c            \n",
      "================================\n",
      "Best power for c is: 2\n",
      "Best value for c is: 0.81\n"
     ]
    }
   ],
   "source": [
    "print('================================')\n",
    "print('           IMPROVE c            ')\n",
    "print('================================')\n",
    "no_test = 20\n",
    "list_of_error = [0]*no_test\n",
    "norm_list = [0]*no_test\n",
    "for p in range(no_test):\n",
    "     sol, iteration = optimizer(f, initial, tol, max_iter=100, c=0.9**p, c1 = 0.9, c2 = 0.8)\n",
    "     #print(p , '||' , np.array(sol) - np.array([1.0]*len(initial)))\n",
    "     list_of_error[p] = list(np.array(sol) - np.array([1.0]*len(initial)))\n",
    "     norm_list[p] = sqrt((list_of_error[p][0])**2 + (list_of_error[p][1])**2)\n",
    "\n",
    "minpos = norm_list.index(min(norm_list)) \n",
    "print('Best power for c is:' , minpos)\n",
    "print('Best value for c is:' , 0.9**minpos)\n",
    "c = 0.9**minpos"
   ]
  },
  {
   "cell_type": "code",
   "execution_count": 949,
   "metadata": {},
   "outputs": [
    {
     "name": "stdout",
     "output_type": "stream",
     "text": [
      "================================\n",
      "           IMPROVE c1            \n",
      "================================\n",
      "Best power for c1 is: 2\n",
      "Best value for c1 is: 0.81\n"
     ]
    }
   ],
   "source": [
    "print('================================')\n",
    "print('           IMPROVE c1            ')\n",
    "print('================================')\n",
    "list_of_error = [0]*no_test\n",
    "norm_list = [0]*no_test\n",
    "for p in range(no_test):\n",
    "     sol, iteration = optimizer(f, initial, tol, max_iter=100, c=0.9, c1 = 0.9**p, c2 = 0.8)\n",
    "     #print(p , '||' , np.array(sol) - np.array([1.0]*len(initial)))\n",
    "     list_of_error[p] = list(np.array(sol) - np.array([1.0]*len(initial)))\n",
    "     norm_list[p] = sqrt((list_of_error[p][0])**2 + (list_of_error[p][1])**2)\n",
    "\n",
    "minpos = norm_list.index(min(norm_list)) \n",
    "print('Best power for c1 is:' , minpos)\n",
    "print('Best value for c1 is:' , 0.9**minpos)\n",
    "c1 = 0.9**minpos"
   ]
  },
  {
   "cell_type": "code",
   "execution_count": 950,
   "metadata": {},
   "outputs": [
    {
     "name": "stdout",
     "output_type": "stream",
     "text": [
      "================================\n",
      "           IMPROVE c2            \n",
      "================================\n",
      "Best power for c2 is: 19\n",
      "Best value for c2 is: 0.13508517176729928\n"
     ]
    }
   ],
   "source": [
    "print('================================')\n",
    "print('           IMPROVE c2            ')\n",
    "print('================================')\n",
    "list_of_error = [0]*no_test\n",
    "norm_list = [0]*no_test\n",
    "for p in range(no_test):\n",
    "     sol, iteration = optimizer(f, initial, tol, max_iter=100, c=0.9, c1 = 0.9, c2 = 0.9**p)\n",
    "     #print(p , '||' , np.array(sol) - np.array([1.0]*len(initial)))\n",
    "     list_of_error[p] = list(np.array(sol) - np.array([1.0]*len(initial)))\n",
    "     norm_list[p] = sqrt((list_of_error[p][0])**2 + (list_of_error[p][1])**2)\n",
    "\n",
    "minpos = norm_list.index(min(norm_list)) \n",
    "print('Best power for c2 is:' , minpos)\n",
    "print('Best value for c2 is:' , 0.9**minpos)\n",
    "c2 = 0.9**minpos"
   ]
  },
  {
   "cell_type": "code",
   "execution_count": null,
   "metadata": {
    "scrolled": true
   },
   "outputs": [],
   "source": []
  }
 ],
 "metadata": {
  "kernelspec": {
   "display_name": "python3",
   "language": "python",
   "name": "python3"
  },
  "language_info": {
   "codemirror_mode": {
    "name": "ipython",
    "version": 3
   },
   "file_extension": ".py",
   "mimetype": "text/x-python",
   "name": "python",
   "nbconvert_exporter": "python",
   "pygments_lexer": "ipython3",
   "version": "3.8.5"
  }
 },
 "nbformat": 4,
 "nbformat_minor": 4
}
