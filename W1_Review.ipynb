{
 "cells": [
  {
   "cell_type": "code",
   "execution_count": 13,
   "metadata": {},
   "outputs": [],
   "source": [
    "import numpy as np"
   ]
  },
  {
   "cell_type": "code",
   "execution_count": 14,
   "metadata": {},
   "outputs": [],
   "source": [
    "def norm(x):\n",
    "    return sqrt(sum(t**2 for t in x))\n",
    "\n",
    "def sqrnorm(x):\n",
    "    return sum(t**2 for t in x)"
   ]
  },
  {
   "cell_type": "code",
   "execution_count": 15,
   "metadata": {},
   "outputs": [],
   "source": [
    "def approximate_gradient(f, x, n, gamma, valf=None):\n",
    "    if valf is None:\n",
    "        valf = f(x)\n",
    "    grad_approx = [-valf for j in range(n)]\n",
    "    for j in range(n):\n",
    "        \n",
    "       # print('input is:', x[:j] + [x[j]+gamma] + x[j+1:] )\n",
    "\n",
    "        grad_approx[j] += f(x[:j] + [x[j]+gamma] + x[j+1:])\n",
    "        grad_approx[j] /= gamma\n",
    "    return (grad_approx, valf)"
   ]
  },
  {
   "cell_type": "code",
   "execution_count": 16,
   "metadata": {},
   "outputs": [],
   "source": [
    "def armijo(f, grad_approx, x, c, alpha):\n",
    "    return (\n",
    "        f([x[j] - alpha * grad_approx[j] for j in range(len(x))]) \n",
    "        < \n",
    "        f(x) - c * alpha * sqrnorm(grad_approx)\n",
    "    )"
   ]
  },
  {
   "cell_type": "code",
   "execution_count": 17,
   "metadata": {},
   "outputs": [],
   "source": [
    "def optimizer(f, initial, tolerance, max_iter, c):\n",
    "    x_current = initial\n",
    "    n = len(initial)\n",
    "    \n",
    "    for i in range(max_iter):\n",
    "        \n",
    "        gamma = tol/(i+1)\n",
    "        \n",
    "        grad_approx, valf = approximate_gradient(\n",
    "            f, \n",
    "            x_current, \n",
    "            n,\n",
    "            gamma\n",
    "        )\n",
    "        \n",
    "        alpha = 1.\n",
    "        \n",
    "        while armijo(f, grad_approx, x_current, c, alpha * 1.5):\n",
    "            alpha *= 1.5\n",
    "        max_iter_armijo = 100\n",
    "        cur_iter_armijo = 0\n",
    "        while not armijo(f, grad_approx, x_current, c, alpha):\n",
    "            alpha *= 0.5        \n",
    "            cur_iter_armijo += 1\n",
    "            if cur_iter_armijo > max_iter_armijo:\n",
    "                return x_current\n",
    "        \n",
    "        x_next = [x_current[j] - alpha * grad_approx[j] for j in range(n)]\n",
    "        x_current = x_next   \n",
    "        \n",
    "#         print(grad_approx, tol**3)       \n",
    "#         if all(grad_approx) < tol**3:\n",
    "#             print('reached optimal point')\n",
    "        \n",
    "    return x_current"
   ]
  },
  {
   "cell_type": "code",
   "execution_count": 18,
   "metadata": {},
   "outputs": [
    {
     "name": "stdout",
     "output_type": "stream",
     "text": [
      "\n",
      " ================================================== \n",
      "\n",
      "Solution =  [0.9999982526111981, 0.9999964821140944]\n"
     ]
    }
   ],
   "source": [
    "def fx1x2(x1, x2): \n",
    "    p = 1\n",
    "    q = 10\n",
    "    return (p-x1)**2+q*(x2-x1**2)**2\n",
    "\n",
    "def f(x):\n",
    "    return fx1x2(x[0], x[1])\n",
    "\n",
    "tol = 0.00001\n",
    "initial = (0., 0.)\n",
    "\n",
    "initial = list(initial)\n",
    "\n",
    "#Optimization for hyperparameters\n",
    "for p in range(20):\n",
    "     sol = optimizer(f, initial, tol, max_iter=1000, c=0.9**p)        \n",
    "     #print( np.array(sol) - np.array([1. , 1.]) , p)\n",
    "     #print(sol, p)\n",
    "\n",
    "#Print final solutions\n",
    "print('\\n','==================================================','\\n')\n",
    "sol = optimizer(f, initial, tol, max_iter=1000, c=0.9**7) \n",
    "print('Solution = ' , sol)"
   ]
  }
 ],
 "metadata": {
  "kernelspec": {
   "display_name": "python3",
   "language": "python",
   "name": "python3"
  },
  "language_info": {
   "codemirror_mode": {
    "name": "ipython",
    "version": 3
   },
   "file_extension": ".py",
   "mimetype": "text/x-python",
   "name": "python",
   "nbconvert_exporter": "python",
   "pygments_lexer": "ipython3",
   "version": "3.8.5"
  }
 },
 "nbformat": 4,
 "nbformat_minor": 4
}
