{
 "cells": [
  {
   "cell_type": "code",
   "execution_count": 1,
   "metadata": {},
   "outputs": [],
   "source": [
    "s = '''12 9\n",
    "1 1 2 6 9\n",
    "1 0 2 7 10\n",
    "1 0 1 8 11\n",
    "1 0 4 5 9\n",
    "1 1 3 5 10\n",
    "1 2 3 4 11\n",
    "1 3 7 8 9\n",
    "1 4 6 8 10\n",
    "1 5 6 7 11'''"
   ]
  },
  {
   "cell_type": "markdown",
   "metadata": {},
   "source": [
    "# Read and Store"
   ]
  },
  {
   "cell_type": "code",
   "execution_count": 2,
   "metadata": {},
   "outputs": [],
   "source": [
    "import numpy as np\n",
    "import math\n",
    "import scipy\n",
    "from scipy.optimize import linprog\n",
    "import fileinput\n",
    "import random"
   ]
  },
  {
   "cell_type": "code",
   "execution_count": 3,
   "metadata": {},
   "outputs": [],
   "source": [
    "def read_input(s):\n",
    "    # Save in list of lists\n",
    "    A = []\n",
    "    for line in s.splitlines():\n",
    "        line = str.split(line) \n",
    "        list_line = []\n",
    "        for i in range(len(line)):\n",
    "            list_line.append(int(line[i]))\n",
    "        A.append(list_line)\n",
    "\n",
    "    # Get upper row containing number of columns and rows, then delete it\n",
    "    n_cols, n_rows = A[0][0], A[0][1]\n",
    "    A.pop(0)\n",
    "\n",
    "    # Get separet numpy array containing prices, convert A to np.array\n",
    "    p = np.zeros((n_rows))\n",
    "    for i in range(len(A)):\n",
    "        p[i] = A[i][0]\n",
    "        A[i].pop(0) \n",
    "    A = np.array(A)\n",
    "\n",
    "    AA = np.zeros((n_rows, n_cols))\n",
    "    for i in range(n_rows):\n",
    "        for j in A[i,:]:\n",
    "            AA[i,j] = 1\n",
    "\n",
    "#     # Check\n",
    "#     print('n_cols', 'n_rows')\n",
    "#     print(n_cols, n_rows)\n",
    "#     print(' ')\n",
    "#     print('p')\n",
    "#     print(p)\n",
    "#     print(' ')\n",
    "#     print('A')\n",
    "#     print(A)\n",
    "#     print(' ')\n",
    "#     print('AA')\n",
    "#     print(AA)\n",
    "    return p, n_cols, n_rows, AA, A"
   ]
  },
  {
   "cell_type": "markdown",
   "metadata": {},
   "source": [
    "# Optimize"
   ]
  },
  {
   "cell_type": "code",
   "execution_count": 4,
   "metadata": {
    "scrolled": false
   },
   "outputs": [],
   "source": [
    "p, n_cols, n_rows, AA, A = read_input(s)\n",
    "\n",
    "c = p\n",
    "b = (-1)*np.ones((n_cols))\n",
    "AAT = (-1)*np.transpose( AA )\n",
    "\n",
    "res = linprog( c, A_ub = AAT, b_ub = b ) \n",
    "x = res.x\n",
    "\n",
    "\n",
    "\n",
    "# print(' ')\n",
    "# print('AAT')\n",
    "# print(' ')\n",
    "# print(AAT)\n",
    "# print(' ')\n",
    "\n",
    "# print('============================================')\n",
    "# print(' ')\n",
    "# print('b')\n",
    "# print(' ')\n",
    "# print(b)\n",
    "# print(' ')\n",
    "\n",
    "# print('============================================')\n",
    "# print(' ')\n",
    "# print('c')\n",
    "# print(' ')\n",
    "# print(c)\n",
    "# print(' ')\n",
    "\n",
    "# print(' ')\n",
    "# print('===================== RESULT ======================')\n",
    "# print(' ')\n",
    "# print('xi')\n",
    "# print(' ')\n",
    "# print(xi)"
   ]
  },
  {
   "cell_type": "markdown",
   "metadata": {},
   "source": [
    "# Convert back to approximate solution, xi's are probabilities"
   ]
  },
  {
   "cell_type": "code",
   "execution_count": 5,
   "metadata": {
    "scrolled": true
   },
   "outputs": [
    {
     "data": {
      "text/plain": [
       "array([0.33333333, 0.33333333, 0.33333333, 0.33333333, 0.33333333,\n",
       "       0.33333333, 0.33333333, 0.33333333, 0.33333333])"
      ]
     },
     "execution_count": 5,
     "metadata": {},
     "output_type": "execute_result"
    }
   ],
   "source": [
    "x"
   ]
  },
  {
   "cell_type": "code",
   "execution_count": 6,
   "metadata": {},
   "outputs": [
    {
     "name": "stdout",
     "output_type": "stream",
     "text": [
      "[0.33333333 0.33333333 0.33333333 0.33333333 0.33333333 0.33333333\n",
      " 0.33333333 0.33333333 0.33333333]\n",
      "5 7 8 9\n"
     ]
    }
   ],
   "source": [
    "\n",
    "x_sorted = np.sort(x)[::-1]\n",
    "\n",
    "print(x_sorted)\n",
    "done = False\n",
    "iteration = 0\n",
    "while not done:\n",
    "    iteration += 1\n",
    "    #print('iteration', iteration)\n",
    "    include_in_cover = []\n",
    "    for i in range(len(x_sorted)):\n",
    "        if random.uniform(0, 1) <= x_sorted[i]:\n",
    "            include_in_cover.append(i + 1) \n",
    "    if len(include_in_cover) > 0:\n",
    "        done = True\n",
    "\n",
    "print(*include_in_cover)"
   ]
  },
  {
   "cell_type": "code",
   "execution_count": 9,
   "metadata": {},
   "outputs": [
    {
     "name": "stdout",
     "output_type": "stream",
     "text": [
      "0 1 2 3 4 5 6 7 8\n"
     ]
    }
   ],
   "source": [
    "x_sorted = sorted(zip([i for i in range(len(x))], x))\n",
    "\n",
    "x_chosen = []\n",
    "columns_covered = np.zeros(n_cols)\n",
    "for index, value in x_sorted:\n",
    "    #print(index, value)\n",
    "    x_chosen.append(index) \n",
    "    for i, val in enumerate(A[index]):\n",
    "#         print(A[index])\n",
    "#         print('i', i)\n",
    "#         print('val', val)\n",
    "        if val == 1:\n",
    "            columns_covered[i] = 1\n",
    "    \n",
    "    if all(columns_covered == 1):\n",
    "        break\n",
    "        \n",
    "print(*x_chosen)"
   ]
  }
 ],
 "metadata": {
  "kernelspec": {
   "display_name": "python3",
   "language": "python",
   "name": "python3"
  },
  "language_info": {
   "codemirror_mode": {
    "name": "ipython",
    "version": 3
   },
   "file_extension": ".py",
   "mimetype": "text/x-python",
   "name": "python",
   "nbconvert_exporter": "python",
   "pygments_lexer": "ipython3",
   "version": "3.8.5"
  }
 },
 "nbformat": 4,
 "nbformat_minor": 4
}
