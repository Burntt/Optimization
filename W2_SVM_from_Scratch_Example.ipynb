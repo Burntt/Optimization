{
 "cells": [
  {
   "cell_type": "code",
   "execution_count": 1,
   "metadata": {},
   "outputs": [],
   "source": [
    "import numpy as np\n",
    "import matplotlib.pyplot as plt\n",
    "np.random.seed(6)\n",
    "import math"
   ]
  },
  {
   "cell_type": "code",
   "execution_count": 9,
   "metadata": {},
   "outputs": [
    {
     "name": "stdout",
     "output_type": "stream",
     "text": [
      "[[  7.12731332  -4.4394424 ]\n",
      " [  6.68873898  -2.44840134]\n",
      " [ -1.1004791   -7.78436803]\n",
      " [  3.99337867  -4.90451269]\n",
      " [ -1.8171622   -9.22909875]\n",
      " [ -2.05521901 -10.23141199]\n",
      " [  4.20397723  -3.61164749]\n",
      " [ -0.21804625  -9.21962706]\n",
      " [  5.19327641  -6.38845134]\n",
      " [ -1.83682056  -8.21952131]\n",
      " [  7.54287406  -5.35284052]\n",
      " [  4.88954545  -3.38947816]\n",
      " [ -1.76558632  -9.34943001]\n",
      " [  5.22597752  -5.5503347 ]\n",
      " [  6.64886376  -4.46203664]\n",
      " [  8.09408178  -4.8068287 ]\n",
      " [  6.32916529  -5.32177094]\n",
      " [  5.80670214  -5.14475233]\n",
      " [  5.67381136  -3.33963413]\n",
      " [  7.20870152  -6.04176429]\n",
      " [ -3.25014567  -8.67304842]\n",
      " [ -1.22856371  -7.96317275]\n",
      " [ -3.29446134  -7.45269997]\n",
      " [ -1.81294631  -7.55640734]\n",
      " [ -1.53809058  -8.77828137]\n",
      " [ -3.78288052  -9.38303174]\n",
      " [ -2.73473836  -9.34777956]\n",
      " [  0.56085542  -8.37942864]\n",
      " [ -0.74123127  -7.87270877]\n",
      " [ -1.78948268  -8.62182811]\n",
      " [  6.50753753  -3.62561777]\n",
      " [  4.60302933  -4.27563422]\n",
      " [ -1.26561532  -8.61262708]\n",
      " [ -0.72123914  -8.45607028]\n",
      " [  3.83024448  -4.07271978]\n",
      " [ -3.34179681  -9.47382989]\n",
      " [  6.05297048  -6.08234237]\n",
      " [ -2.91411681  -9.03305688]\n",
      " [  3.86649969  -4.04019832]\n",
      " [  6.44492377  -4.43550613]\n",
      " [ -1.81467949 -10.05599013]\n",
      " [ -1.76772086  -9.42358002]\n",
      " [  2.74565323  -4.27040575]\n",
      " [  5.23730283  -4.11095128]\n",
      " [  6.34072331  -4.34259999]\n",
      " [ -2.30635421  -8.37456353]\n",
      " [ -3.09442079  -9.2409609 ]\n",
      " [  6.59620916  -4.32893984]\n",
      " [  7.24901124  -3.58913263]\n",
      " [ -2.03285195  -8.16158771]]\n",
      "[[  1.           7.12731332  -4.4394424 ]\n",
      " [  1.           6.68873898  -2.44840134]\n",
      " [  1.          -1.1004791   -7.78436803]\n",
      " [  1.           3.99337867  -4.90451269]\n",
      " [  1.          -1.8171622   -9.22909875]\n",
      " [  1.          -2.05521901 -10.23141199]\n",
      " [  1.           4.20397723  -3.61164749]\n",
      " [  1.          -0.21804625  -9.21962706]\n",
      " [  1.           5.19327641  -6.38845134]\n",
      " [  1.          -1.83682056  -8.21952131]\n",
      " [  1.           7.54287406  -5.35284052]\n",
      " [  1.           4.88954545  -3.38947816]\n",
      " [  1.          -1.76558632  -9.34943001]\n",
      " [  1.           5.22597752  -5.5503347 ]\n",
      " [  1.           6.64886376  -4.46203664]\n",
      " [  1.           8.09408178  -4.8068287 ]\n",
      " [  1.           6.32916529  -5.32177094]\n",
      " [  1.           5.80670214  -5.14475233]\n",
      " [  1.           5.67381136  -3.33963413]\n",
      " [  1.           7.20870152  -6.04176429]\n",
      " [  1.          -3.25014567  -8.67304842]\n",
      " [  1.          -1.22856371  -7.96317275]\n",
      " [  1.          -3.29446134  -7.45269997]\n",
      " [  1.          -1.81294631  -7.55640734]\n",
      " [  1.          -1.53809058  -8.77828137]\n",
      " [  1.          -3.78288052  -9.38303174]\n",
      " [  1.          -2.73473836  -9.34777956]\n",
      " [  1.           0.56085542  -8.37942864]\n",
      " [  1.          -0.74123127  -7.87270877]\n",
      " [  1.          -1.78948268  -8.62182811]\n",
      " [  1.           6.50753753  -3.62561777]\n",
      " [  1.           4.60302933  -4.27563422]\n",
      " [  1.          -1.26561532  -8.61262708]\n",
      " [  1.          -0.72123914  -8.45607028]\n",
      " [  1.           3.83024448  -4.07271978]\n",
      " [  1.          -3.34179681  -9.47382989]\n",
      " [  1.           6.05297048  -6.08234237]\n",
      " [  1.          -2.91411681  -9.03305688]\n",
      " [  1.           3.86649969  -4.04019832]\n",
      " [  1.           6.44492377  -4.43550613]\n",
      " [  1.          -1.81467949 -10.05599013]\n",
      " [  1.          -1.76772086  -9.42358002]\n",
      " [  1.           2.74565323  -4.27040575]\n",
      " [  1.           5.23730283  -4.11095128]\n",
      " [  1.           6.34072331  -4.34259999]\n",
      " [  1.          -2.30635421  -8.37456353]\n",
      " [  1.          -3.09442079  -9.2409609 ]\n",
      " [  1.           6.59620916  -4.32893984]\n",
      " [  1.           7.24901124  -3.58913263]\n",
      " [  1.          -2.03285195  -8.16158771]]\n",
      "[1 1 0 1 0 0 1 0 1 0 1 1 0 1 1 1 1 1 1 1 0 0 0 0 0 0 0 0 0 0 1 1 0 0 1 0 1\n",
      " 0 1 1 0 0 1 1 1 0 0 1 1 0]\n"
     ]
    },
    {
     "data": {
      "image/png": "[encoded data removed]",
      "text/plain": [
       "<Figure size 432x288 with 1 Axes>"
      ]
     },
     "metadata": {
      "needs_background": "light"
     },
     "output_type": "display_data"
    },
    {
     "name": "stdout",
     "output_type": "stream",
     "text": [
      "(50, 2)\n",
      "(50,)\n"
     ]
    }
   ],
   "source": [
    "from sklearn.datasets.samples_generator import make_blobs\n",
    "\n",
    "(X,y) =  make_blobs(n_samples=50,n_features=2,centers=2,cluster_std=1.05,random_state=40)\n",
    "\n",
    "#we need to add 1 to X values (we can say its bias)\n",
    "print(X)\n",
    "X1 = np.c_[np.ones((X.shape[0])),X]\n",
    "\n",
    "print(X1)\n",
    "print(y)\n",
    "\n",
    "plt.scatter(X1[:,1],X1[:,2],marker='o',c=y)\n",
    "plt.axis([-5,10,-12,-1])\n",
    "plt.show()\n",
    "\n",
    "print(np.shape(X))\n",
    "print(np.shape(y))"
   ]
  },
  {
   "cell_type": "code",
   "execution_count": 10,
   "metadata": {},
   "outputs": [
    {
     "name": "stdout",
     "output_type": "stream",
     "text": [
      "[[ 1.   0.1  0.5  3. ]\n",
      " [ 1.   1.  -1.   0. ]\n",
      " [ 1.   0.   1.   0. ]\n",
      " [ 1.   0.1  0.5  1. ]]\n",
      "[ 1  1 -1  1]\n",
      "(4, 3)\n",
      "(4,)\n"
     ]
    },
    {
     "data": {
      "image/png": "[encoded data removed]",
      "text/plain": [
       "<Figure size 432x288 with 1 Axes>"
      ]
     },
     "metadata": {
      "needs_background": "light"
     },
     "output_type": "display_data"
    }
   ],
   "source": [
    "x = [\n",
    "    [0.1, 0.5, 3.0],\n",
    "    [1.0, -1.0, 0.0],\n",
    "    [0.0, 1.0, 0.0],\n",
    "    [0.1, 0.5, 1.0]\n",
    "]\n",
    "\n",
    "y = [1, 1, -1, 1]\n",
    "\n",
    "y = np.asarray(y)\n",
    "X = np.asarray(x)\n",
    "\n",
    "#we need to add 1 to X values (we can say its bias)\n",
    "X1 = np.c_[np.ones((X.shape[0])),X]\n",
    "\n",
    "print(X1)\n",
    "print(y)\n",
    "\n",
    "\n",
    "print(np.shape(X))\n",
    "print(np.shape(y))\n",
    "\n",
    "plt.scatter(X1[:,1],X1[:,2],marker='o',c=y)\n",
    "plt.show()"
   ]
  },
  {
   "cell_type": "code",
   "execution_count": 4,
   "metadata": {},
   "outputs": [],
   "source": [
    "postiveX=[]\n",
    "negativeX=[]\n",
    "for i,v in enumerate(y):\n",
    "    if v==0:\n",
    "        print(X[i])\n",
    "        negativeX.append(X[i])\n",
    "    else:\n",
    "        postiveX.append(X[i])\n",
    "\n",
    "#our data dictionary\n",
    "data_dict = {-1:np.array(negativeX), 1:np.array(postiveX)}"
   ]
  },
  {
   "cell_type": "code",
   "execution_count": 5,
   "metadata": {},
   "outputs": [
    {
     "ename": "ValueError",
     "evalue": "zero-size array to reduction operation maximum which has no identity",
     "output_type": "error",
     "traceback": [
      "\u001b[0;31m---------------------------------------------------------------------------\u001b[0m",
      "\u001b[0;31mValueError\u001b[0m                                Traceback (most recent call last)",
      "\u001b[0;32m<ipython-input-5-7128a491deba>\u001b[0m in \u001b[0;36m<module>\u001b[0;34m\u001b[0m\n\u001b[1;32m      7\u001b[0m \u001b[0;34m\u001b[0m\u001b[0m\n\u001b[1;32m      8\u001b[0m \u001b[0;32mfor\u001b[0m \u001b[0myi\u001b[0m \u001b[0;32min\u001b[0m \u001b[0mdata_dict\u001b[0m\u001b[0;34m:\u001b[0m\u001b[0;34m\u001b[0m\u001b[0;34m\u001b[0m\u001b[0m\n\u001b[0;32m----> 9\u001b[0;31m     \u001b[0;32mif\u001b[0m \u001b[0mnp\u001b[0m\u001b[0;34m.\u001b[0m\u001b[0mamax\u001b[0m\u001b[0;34m(\u001b[0m\u001b[0mdata_dict\u001b[0m\u001b[0;34m[\u001b[0m\u001b[0myi\u001b[0m\u001b[0;34m]\u001b[0m\u001b[0;34m)\u001b[0m\u001b[0;34m>\u001b[0m\u001b[0mmax_feature_value\u001b[0m\u001b[0;34m:\u001b[0m\u001b[0;34m\u001b[0m\u001b[0;34m\u001b[0m\u001b[0m\n\u001b[0m\u001b[1;32m     10\u001b[0m         \u001b[0mmax_feature_value\u001b[0m\u001b[0;34m=\u001b[0m\u001b[0mnp\u001b[0m\u001b[0;34m.\u001b[0m\u001b[0mamax\u001b[0m\u001b[0;34m(\u001b[0m\u001b[0mdata_dict\u001b[0m\u001b[0;34m[\u001b[0m\u001b[0myi\u001b[0m\u001b[0;34m]\u001b[0m\u001b[0;34m)\u001b[0m\u001b[0;34m\u001b[0m\u001b[0;34m\u001b[0m\u001b[0m\n\u001b[1;32m     11\u001b[0m \u001b[0;34m\u001b[0m\u001b[0m\n",
      "\u001b[0;32m<__array_function__ internals>\u001b[0m in \u001b[0;36mamax\u001b[0;34m(*args, **kwargs)\u001b[0m\n",
      "\u001b[0;32m~/anaconda3/envs/python3/lib/python3.8/site-packages/numpy/core/fromnumeric.py\u001b[0m in \u001b[0;36mamax\u001b[0;34m(a, axis, out, keepdims, initial, where)\u001b[0m\n\u001b[1;32m   2703\u001b[0m     \u001b[0;36m5\u001b[0m\u001b[0;34m\u001b[0m\u001b[0;34m\u001b[0m\u001b[0m\n\u001b[1;32m   2704\u001b[0m     \"\"\"\n\u001b[0;32m-> 2705\u001b[0;31m     return _wrapreduction(a, np.maximum, 'max', axis, None, out,\n\u001b[0m\u001b[1;32m   2706\u001b[0m                           keepdims=keepdims, initial=initial, where=where)\n\u001b[1;32m   2707\u001b[0m \u001b[0;34m\u001b[0m\u001b[0m\n",
      "\u001b[0;32m~/anaconda3/envs/python3/lib/python3.8/site-packages/numpy/core/fromnumeric.py\u001b[0m in \u001b[0;36m_wrapreduction\u001b[0;34m(obj, ufunc, method, axis, dtype, out, **kwargs)\u001b[0m\n\u001b[1;32m     85\u001b[0m                 \u001b[0;32mreturn\u001b[0m \u001b[0mreduction\u001b[0m\u001b[0;34m(\u001b[0m\u001b[0maxis\u001b[0m\u001b[0;34m=\u001b[0m\u001b[0maxis\u001b[0m\u001b[0;34m,\u001b[0m \u001b[0mout\u001b[0m\u001b[0;34m=\u001b[0m\u001b[0mout\u001b[0m\u001b[0;34m,\u001b[0m \u001b[0;34m**\u001b[0m\u001b[0mpasskwargs\u001b[0m\u001b[0;34m)\u001b[0m\u001b[0;34m\u001b[0m\u001b[0;34m\u001b[0m\u001b[0m\n\u001b[1;32m     86\u001b[0m \u001b[0;34m\u001b[0m\u001b[0m\n\u001b[0;32m---> 87\u001b[0;31m     \u001b[0;32mreturn\u001b[0m \u001b[0mufunc\u001b[0m\u001b[0;34m.\u001b[0m\u001b[0mreduce\u001b[0m\u001b[0;34m(\u001b[0m\u001b[0mobj\u001b[0m\u001b[0;34m,\u001b[0m \u001b[0maxis\u001b[0m\u001b[0;34m,\u001b[0m \u001b[0mdtype\u001b[0m\u001b[0;34m,\u001b[0m \u001b[0mout\u001b[0m\u001b[0;34m,\u001b[0m \u001b[0;34m**\u001b[0m\u001b[0mpasskwargs\u001b[0m\u001b[0;34m)\u001b[0m\u001b[0;34m\u001b[0m\u001b[0;34m\u001b[0m\u001b[0m\n\u001b[0m\u001b[1;32m     88\u001b[0m \u001b[0;34m\u001b[0m\u001b[0m\n\u001b[1;32m     89\u001b[0m \u001b[0;34m\u001b[0m\u001b[0m\n",
      "\u001b[0;31mValueError\u001b[0m: zero-size array to reduction operation maximum which has no identity"
     ]
    }
   ],
   "source": [
    "#all the required variables \n",
    "w=[] #weights 2 dimensional vector\n",
    "b=[] #bias\n",
    "\n",
    "max_feature_value=float('-inf')\n",
    "min_feature_value=float('+inf')\n",
    "        \n",
    "for yi in data_dict:\n",
    "    if np.amax(data_dict[yi])>max_feature_value:\n",
    "        max_feature_value=np.amax(data_dict[yi])\n",
    "                \n",
    "    if np.amin(data_dict[yi])<min_feature_value:\n",
    "        min_feature_value=np.amin(data_dict[yi])\n",
    "        \n",
    "learning_rate = [max_feature_value * 0.1, max_feature_value * 0.01, max_feature_value * 0.001,]"
   ]
  },
  {
   "cell_type": "code",
   "execution_count": null,
   "metadata": {},
   "outputs": [],
   "source": [
    "def SVM_Training(data_dict):\n",
    "    i=1\n",
    "    global w\n",
    "    global b\n",
    "    # { ||w||: [w,b] }\n",
    "    length_Wvector = {}\n",
    "    transforms = [[1,1],[-1,1],[-1,-1],[1,-1]]\n",
    "    \n",
    "    b_step_size = 2\n",
    "    b_multiple = 5\n",
    "    w_optimum = max_feature_value*0.5\n",
    "\n",
    "    for lrate in learning_rate:\n",
    "        \n",
    "        w = np.array([w_optimum,w_optimum])     \n",
    "        optimized = False\n",
    "        while not optimized:\n",
    "            #b=[-maxvalue to maxvalue] we wanna maximize the b values so check for every b value\n",
    "            for b in np.arange(-1*(max_feature_value*b_step_size), max_feature_value*b_step_size, lrate*b_multiple):\n",
    "                for transformation in transforms:  # transforms = [[1,1],[-1,1],[-1,-1],[1,-1]]\n",
    "                    w_t = w*transformation\n",
    "                    \n",
    "                    correctly_classified = True\n",
    "                    \n",
    "                    # every data point should be correct\n",
    "                    for yi in data_dict:\n",
    "                        for xi in data_dict[yi]:\n",
    "                            if yi*(np.dot(w_t,xi)+b) < 1:  # we want  yi*(np.dot(w_t,xi)+b) >= 1 for correct classification\n",
    "                                correctly_classified = False\n",
    "                                \n",
    "                    if correctly_classified:\n",
    "                        length_Wvector[np.linalg.norm(w_t)] = [w_t,b] #store w, b for minimum magnitude\n",
    "            \n",
    "            if w[0] < 0:\n",
    "                optimized = True\n",
    "            else:\n",
    "                w = w - lrate\n",
    "\n",
    "        norms = sorted([n for n in length_Wvector])\n",
    "        \n",
    "        minimum_wlength = length_Wvector[norms[0]]\n",
    "        w = minimum_wlength[0]\n",
    "        b = minimum_wlength[1]\n",
    "        \n",
    "        w_optimum = w[0]+lrate*2"
   ]
  },
  {
   "cell_type": "code",
   "execution_count": null,
   "metadata": {},
   "outputs": [],
   "source": [
    "SVM_Training(data_dict)"
   ]
  },
  {
   "cell_type": "code",
   "execution_count": null,
   "metadata": {},
   "outputs": [],
   "source": [
    "colors = {1:'r',-1:'b'}\n",
    "fig = plt.figure()\n",
    "ax = fig.add_subplot(1,1,1)"
   ]
  },
  {
   "cell_type": "code",
   "execution_count": null,
   "metadata": {},
   "outputs": [],
   "source": [
    "def visualize(data_dict):\n",
    "       \n",
    "        \n",
    "        #[[ax.scatter(x[0],x[1],s=100,color=colors[i]) for x in data_dict[i]] for i in data_dict]\n",
    "        \n",
    "        plt.scatter(X1[:,1],X1[:,2],marker='o',c=y)\n",
    "\n",
    "        # hyperplane = x.w+b\n",
    "        # v = x.w+b\n",
    "        # psv = 1\n",
    "        # nsv = -1\n",
    "        # dec = 0\n",
    "        def hyperplane_value(x,w,b,v):\n",
    "            return (-w[0]*x-b+v) / w[1]\n",
    "\n",
    "        datarange = (min_feature_value*0.9,max_feature_value*1.)\n",
    "        hyp_x_min = datarange[0]\n",
    "        hyp_x_max = datarange[1]\n",
    "\n",
    "        # (w.x+b) = 1\n",
    "        # positive support vector hyperplane\n",
    "        psv1 = hyperplane_value(hyp_x_min, w, b, 1)\n",
    "        psv2 = hyperplane_value(hyp_x_max, w, b, 1)\n",
    "        ax.plot([hyp_x_min,hyp_x_max],[psv1,psv2], 'k')\n",
    "\n",
    "        # (w.x+b) = -1\n",
    "        # negative support vector hyperplane\n",
    "        nsv1 = hyperplane_value(hyp_x_min, w, b, -1)\n",
    "        nsv2 = hyperplane_value(hyp_x_max, w, b, -1)\n",
    "        ax.plot([hyp_x_min,hyp_x_max],[nsv1,nsv2], 'k')\n",
    "\n",
    "        # (w.x+b) = 0\n",
    "        # positive support vector hyperplane\n",
    "        db1 = hyperplane_value(hyp_x_min, w, b, 0)\n",
    "        db2 = hyperplane_value(hyp_x_max, w, b, 0)\n",
    "        ax.plot([hyp_x_min,hyp_x_max],[db1,db2], 'y--')\n",
    "        \n",
    "        plt.axis([-5,10,-12,-1])\n",
    "        plt.show()"
   ]
  },
  {
   "cell_type": "code",
   "execution_count": null,
   "metadata": {},
   "outputs": [],
   "source": [
    "visualize(data_dict)"
   ]
  },
  {
   "cell_type": "code",
   "execution_count": null,
   "metadata": {},
   "outputs": [],
   "source": [
    "def predict(features):\n",
    "        # sign( x.w+b )\n",
    "        dot_result = np.sign(np.dot(np.array(features),w)+b)\n",
    "        return dot_result.astype(int)\n",
    "    \n",
    "for i in X[:5]:\n",
    "    print(predict(i),end=',  ')"
   ]
  },
  {
   "cell_type": "code",
   "execution_count": null,
   "metadata": {},
   "outputs": [],
   "source": [
    "l=[]\n",
    "for xi in X:\n",
    "    \n",
    "    l.append(predict(xi[:6]))\n",
    "l=np.array(l).astype(int)\n",
    "l"
   ]
  },
  {
   "cell_type": "code",
   "execution_count": null,
   "metadata": {},
   "outputs": [],
   "source": [
    "X[4]"
   ]
  },
  {
   "cell_type": "code",
   "execution_count": null,
   "metadata": {},
   "outputs": [],
   "source": [
    "for i, v in enumerate(y):\n",
    "    if v==0:\n",
    "        y[i]=-1\n",
    "y"
   ]
  },
  {
   "cell_type": "code",
   "execution_count": null,
   "metadata": {},
   "outputs": [],
   "source": [
    "error = sum((l-y)**2)"
   ]
  },
  {
   "cell_type": "code",
   "execution_count": null,
   "metadata": {},
   "outputs": [],
   "source": [
    "error"
   ]
  }
 ],
 "metadata": {
  "kernelspec": {
   "display_name": "python3",
   "language": "python",
   "name": "python3"
  },
  "language_info": {
   "codemirror_mode": {
    "name": "ipython",
    "version": 3
   },
   "file_extension": ".py",
   "mimetype": "text/x-python",
   "name": "python",
   "nbconvert_exporter": "python",
   "pygments_lexer": "ipython3",
   "version": "3.8.5"
  }
 },
 "nbformat": 4,
 "nbformat_minor": 4
}
