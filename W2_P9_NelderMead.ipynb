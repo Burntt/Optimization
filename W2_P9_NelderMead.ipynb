{
 "cells": [
  {
   "cell_type": "markdown",
   "metadata": {},
   "source": [
    "## Usefull links"
   ]
  },
  {
   "cell_type": "markdown",
   "metadata": {},
   "source": [
    "https://en.wikipedia.org/wiki/Nelder%E2%80%93Mead_method"
   ]
  },
  {
   "cell_type": "code",
   "execution_count": 1,
   "metadata": {},
   "outputs": [],
   "source": [
    "import copy\n",
    "\n",
    "def nelder_mead(f, x_curr_start,\n",
    "                \n",
    "                step = 0.001, no_imp_tol_thr = 10e-6,\n",
    "                \n",
    "                no_imp_tol_break = 100, max_curr_iterations = 0,\n",
    "                \n",
    "                alpha = 1., gamma = 2., rho = -0.5, sigma = 0.5):\n",
    "\n",
    "    # init\n",
    "    dim = len(x_curr_start)\n",
    "    prev_best = f(x_curr_start)\n",
    "    no_imp_tol = 0\n",
    "    minimum = [[x_curr_start, prev_best]]\n",
    "\n",
    "    for i in range(dim):\n",
    "        x_curr = copy.copy(x_curr_start)\n",
    "        x_curr[i] = x_curr[i] + step\n",
    "        score = f(x_curr)\n",
    "        minimum.append([x_curr, score])\n",
    "    iters = 0\n",
    "    while 1:\n",
    "        minimum.sort(key=lambda x_curr: x_curr[1])\n",
    "        best = minimum[0][1]\n",
    "\n",
    "        if max_curr_iterations and iters >= max_curr_iterations:\n",
    "            return minimum[0]\n",
    "        iters += 1\n",
    "\n",
    "        # break\n",
    "        if best < prev_best - no_imp_tol_thr:\n",
    "            no_imp_tol = 0\n",
    "        for i in range(n):\n",
    "            prev_best = best\n",
    "        else:\n",
    "            no_imp_tol += 1\n",
    "\n",
    "        if no_imp_tol >= no_imp_tol_break:\n",
    "            return minimum[0]\n",
    "\n",
    "        # centroid\n",
    "        x_curr_init = [0.] * dim\n",
    "        for tup in minimum[:-1]:\n",
    "            for i, c in enumerate(tup[0]):\n",
    "                x_curr_init[i] += c / (len(minimum)-1)\n",
    "\n",
    "        # reflection\n",
    "        x_currr = x_curr_init + alpha*(x_curr_init - minimum[-1][0])\n",
    "        rscore = f(x_currr)\n",
    "        if minimum[0][1] <= rscore < minimum[-2][1]:\n",
    "            del minimum[-1]\n",
    "            minimum.append([x_currr, rscore])\n",
    "            continue\n",
    "\n",
    "        # ex_currpansion\n",
    "        if rscore < minimum[0][1]:\n",
    "            x_curre = x_curr_init + gamma*(x_curr_init - minimum[-1][0])\n",
    "            escore = f(x_curre)\n",
    "            if escore < rscore:\n",
    "                del minimum[-1]\n",
    "                minimum.append([x_curre, escore])\n",
    "                continue\n",
    "            else:\n",
    "                del minimum[-1]\n",
    "                minimum.append([x_currr, rscore])\n",
    "                continue\n",
    "\n",
    "        # contraction\n",
    "        x_currc = x_curr_init + rho*(x_curr_init - minimum[-1][0])\n",
    "        cscore = f(x_currc)\n",
    "        if cscore < minimum[-1][1]:\n",
    "            del minimum[-1]\n",
    "            minimum.append([x_currc, cscore])\n",
    "            continue\n",
    "\n",
    "        # reduction\n",
    "        x_curr1 = minimum[0][0]\n",
    "        nminimum = []\n",
    "        for tup in minimum:\n",
    "            redx_curr = x_curr1 + sigma*(tup[0] - x_curr1)\n",
    "            score = f(redx_curr)\n",
    "            nminimum.append([redx_curr, score])\n",
    "        minimum = nminimum"
   ]
  },
  {
   "cell_type": "markdown",
   "metadata": {},
   "source": [
    "## Sample input"
   ]
  },
  {
   "cell_type": "code",
   "execution_count": 2,
   "metadata": {},
   "outputs": [],
   "source": [
    "import math\n",
    "import numpy as np\n",
    "from math import sqrt\n",
    "from scipy.optimize import minimize"
   ]
  },
  {
   "cell_type": "code",
   "execution_count": 3,
   "metadata": {},
   "outputs": [],
   "source": [
    "def L2norm(vector):\n",
    "    sumsquares = np.sum(np.power(vector,2))\n",
    "    return sumsquares**(0.5)"
   ]
  },
  {
   "cell_type": "code",
   "execution_count": 4,
   "metadata": {},
   "outputs": [],
   "source": [
    "x = [\n",
    "    [0.1, 0.5, 3.0],\n",
    "    [1.0, -1.0, 0.0],\n",
    "    [0.0, 1.0, 0.0],\n",
    "    [0.1, 0.5, 1.0]\n",
    "]\n",
    "\n",
    "y = [1, 1, -1, 1]\n"
   ]
  },
  {
   "cell_type": "markdown",
   "metadata": {},
   "source": [
    "## Convert to usable function"
   ]
  },
  {
   "cell_type": "code",
   "execution_count": 5,
   "metadata": {},
   "outputs": [
    {
     "name": "stdout",
     "output_type": "stream",
     "text": [
      "objects n =  4  features m = 3\n",
      "bias\n",
      "[[ 0.1  0.5  3.   1. ]\n",
      " [ 1.  -1.   0.   1. ]\n",
      " [ 0.   1.   0.   1. ]\n",
      " [ 0.1  0.5  1.   1. ]]\n"
     ]
    }
   ],
   "source": [
    "y = np.asarray(y)\n",
    "X = np.asarray(x)\n",
    "\n",
    "# amount of objects\n",
    "n = np.shape(x)[0]\n",
    "\n",
    "# amount of features\n",
    "m = np.shape(x)[1]\n",
    "\n",
    "# bias?\n",
    "b = np.array([1]*n)\n",
    "X =np.c_[ X, b ] \n",
    "\n",
    "print('objects n = ', n , ' features m =', m)\n",
    "print('bias')\n",
    "#print(b)\n",
    "\n",
    "X\n",
    "print(X)"
   ]
  },
  {
   "cell_type": "code",
   "execution_count": 6,
   "metadata": {},
   "outputs": [
    {
     "name": "stdout",
     "output_type": "stream",
     "text": [
      "0.002171424824036935\n",
      "-0.00567854637641254\n",
      "0.007088573573924215\n",
      "0.0007134369450551104\n"
     ]
    }
   ],
   "source": [
    "def f(a):\n",
    "    c = 0.0000001\n",
    "    s = np.linalg.norm(a)\n",
    "    for i in range(n):\n",
    "        xn = X[i,:]\n",
    "        sig_in = np.dot( a, xn )\n",
    "        sig_fa = (sig_in)/(sqrt(c + sig_in**2))\n",
    "        cont = ( 1 - y[i] * sig_fa )\n",
    "        s += cont\n",
    "    return s\n",
    "\n",
    "res, final_val = nelder_mead(f, np.array([0., 0., 0., 0.]))\n",
    "\n",
    "for i in range(m + 1):\n",
    "    print(res[i])\n",
    "\n",
    "# print('RESULT')\n",
    "# for i in range(m + 1):\n",
    "#     if i < m:\n",
    "#         print('a[',i+1,'] =',res[i])\n",
    "#     else:\n",
    "#         print('b = ',res[i])\n",
    "\n",
    "## first use scipy to check initial function\\\n",
    "## add regularilizer to iterativa alg\n",
    "## Introduct constant s = np.linalgn.norm(a)"
   ]
  },
  {
   "cell_type": "code",
   "execution_count": 7,
   "metadata": {},
   "outputs": [
    {
     "name": "stdout",
     "output_type": "stream",
     "text": [
      "Optimization terminated successfully.\n",
      "         Current function value: 0.014061\n",
      "         Iterations: 168\n",
      "         Function evaluations: 285\n",
      " final_simplex: (array([[ 0.00217143, -0.00567855,  0.00708858,  0.00071343],\n",
      "       [ 0.00217143, -0.00567855,  0.00708858,  0.00071343],\n",
      "       [ 0.00217143, -0.00567855,  0.00708857,  0.00071344],\n",
      "       [ 0.00217143, -0.00567854,  0.00708857,  0.00071343],\n",
      "       [ 0.00217143, -0.00567854,  0.00708858,  0.00071343]]), array([0.0140607, 0.0140607, 0.0140607, 0.0140607, 0.0140607]))\n",
      "           fun: 0.014060700323736417\n",
      "       message: 'Optimization terminated successfully.'\n",
      "          nfev: 285\n",
      "           nit: 168\n",
      "        status: 0\n",
      "       success: True\n",
      "             x: array([ 0.00217143, -0.00567855,  0.00708858,  0.00071343])\n"
     ]
    }
   ],
   "source": [
    "x0 = np.array([0., 0., 0., 0.])\n",
    "\n",
    "res = minimize(f, x0, method='nelder-mead',\n",
    "               options={'xatol': 1e-8, 'disp': True})\n",
    "\n",
    "print(res)"
   ]
  }
 ],
 "metadata": {
  "kernelspec": {
   "display_name": "python3",
   "language": "python",
   "name": "python3"
  },
  "language_info": {
   "codemirror_mode": {
    "name": "ipython",
    "version": 3
   },
   "file_extension": ".py",
   "mimetype": "text/x-python",
   "name": "python",
   "nbconvert_exporter": "python",
   "pygments_lexer": "ipython3",
   "version": "3.8.5"
  }
 },
 "nbformat": 4,
 "nbformat_minor": 4
}
