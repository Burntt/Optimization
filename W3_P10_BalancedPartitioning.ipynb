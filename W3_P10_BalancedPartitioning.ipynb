{
 "cells": [
  {
   "cell_type": "markdown",
   "metadata": {},
   "source": [
    "https://github.com/kokoff/kernighan-lin"
   ]
  },
  {
   "cell_type": "markdown",
   "metadata": {},
   "source": [
    "https://github.com/kokoff/kernighan-lin"
   ]
  },
  {
   "cell_type": "markdown",
   "metadata": {},
   "source": [
    "file:///home/berend/Downloads/Handbook%20of%20Approximation%20Algorithms%20and%20Metaheuristics%20[Gonzalez%202007-01-05].pdf"
   ]
  },
  {
   "cell_type": "markdown",
   "metadata": {},
   "source": [
    "local search with variable depth"
   ]
  },
  {
   "cell_type": "markdown",
   "metadata": {},
   "source": [
    "out of approaches choose the one that makes you happy"
   ]
  },
  {
   "cell_type": "markdown",
   "metadata": {},
   "source": [
    "# Initialize problem"
   ]
  },
  {
   "cell_type": "code",
   "execution_count": 1,
   "metadata": {},
   "outputs": [],
   "source": [
    "s = \"\"\"c FILE: myciel3.col\n",
    "c SOURCE: Michael Trick (trick@cmu.edu)\n",
    "c DESCRIPTION: Graph based on Mycielski transformation. \n",
    "c              Triangle free (clique number 2) but increasing\n",
    "c              coloring number\n",
    "p edge 11 20\n",
    "e 1 2\n",
    "e 1 4\n",
    "e 1 7\n",
    "e 1 9\n",
    "e 2 3\n",
    "e 2 6\n",
    "e 2 8\n",
    "e 3 5\n",
    "e 3 7\n",
    "e 3 10\n",
    "e 4 5\n",
    "e 4 6\n",
    "e 4 10\n",
    "e 5 8\n",
    "e 5 9\n",
    "e 6 11\n",
    "e 7 11\n",
    "e 8 11\n",
    "e 9 11\n",
    "e 10 11\"\"\""
   ]
  },
  {
   "cell_type": "code",
   "execution_count": 2,
   "metadata": {},
   "outputs": [],
   "source": [
    "import numpy as np\n",
    "import math\n",
    "import sys\n",
    "import fileinput"
   ]
  },
  {
   "cell_type": "code",
   "execution_count": 3,
   "metadata": {},
   "outputs": [],
   "source": [
    "# s = \"\"\"c FILE: myciel3.col\n",
    "# c SOURCE: Michael Trick (trick@cmu.edu)\n",
    "# c DESCRIPTION: Graph based on Mycielski transformation. \n",
    "# c              Triangle free (clique number 2) but increasing\n",
    "# c              coloring number\n",
    "# p edge 8 13\n",
    "# e 1 2\n",
    "# e 1 5\n",
    "# e 1 6\n",
    "# e 2 5\n",
    "# e 2 6\n",
    "# e 3 4\n",
    "# e 3 6\n",
    "# e 3 7\n",
    "# e 3 8\n",
    "# e 4 7\n",
    "# e 4 8\n",
    "# e 5 6\n",
    "# e 7 8\"\"\""
   ]
  },
  {
   "cell_type": "code",
   "execution_count": 4,
   "metadata": {},
   "outputs": [],
   "source": [
    "# Read data from string\n",
    "def read_graph(s):\n",
    "    for line in s.splitlines():\n",
    "        if line.startswith('c'):\n",
    "            continue\n",
    "        elif line.startswith('p'):\n",
    "            line = line.split()\n",
    "            vertices_number, edges_number = int(line[-2]), int(line[-1])\n",
    "            edges = []\n",
    "            datad = [0] * vertices_number\n",
    "        elif line.startswith('e'):\n",
    "            line = line.split()\n",
    "            v1, v2 = int(line[-2]), int(line[-1])\n",
    "            edges.append([int(line[-2]), int(line[-1])])\n",
    "    edges = np.asarray(edges)\n",
    "    return vertices_number, edges_number, edges"
   ]
  },
  {
   "cell_type": "code",
   "execution_count": 5,
   "metadata": {},
   "outputs": [],
   "source": [
    "def connect_matrix(vertices_number, edges_number, edges):\n",
    "    CM1 = np.zeros(shape=(vertices_number,vertices_number))\n",
    "    for i in range(0, edges_number):\n",
    "    #     print('---------------------------')\n",
    "    #     print('edge', i)\n",
    "    #     print(edges[i])\n",
    "    #     print('fill matrix')\n",
    "        n1 = edges[i][0] - 1\n",
    "        n2 = edges[i][1] - 1\n",
    "    #     print(n1, n2)\n",
    "    #     print(A)\n",
    "        CM1[n1,n2] = 1\n",
    "        CM2 = np.rot90(np.fliplr(CM1))\n",
    "               \n",
    "    return (CM1 + CM2).astype(int)"
   ]
  },
  {
   "cell_type": "code",
   "execution_count": 6,
   "metadata": {},
   "outputs": [],
   "source": [
    "def partition_init(vertices_number, edges_number, edges):\n",
    "    # Split vertices in a random partition\n",
    "    partit_A_init = np.linspace(\n",
    "        1, \n",
    "        math.ceil(vertices_number/2),\n",
    "        math.ceil(vertices_number/2), \n",
    "        endpoint=True)\n",
    "\n",
    "    partit_B_init = np.linspace(\n",
    "        math.ceil(vertices_number/2) + 1,\n",
    "        vertices_number, \n",
    "        vertices_number+1-(math.ceil(vertices_number/2) + 1),\n",
    "        endpoint=True)\n",
    "\n",
    "#     print(vertices_number,edges_number)\n",
    "#     print(edges)\n",
    "#     print(partit_A_init)\n",
    "#     print(partit_B_init)\n",
    "\n",
    "    return partit_A_init.astype(int), partit_B_init.astype(int)"
   ]
  },
  {
   "cell_type": "code",
   "execution_count": 7,
   "metadata": {},
   "outputs": [],
   "source": [
    "def D_vector(A, B, CM):\n",
    "    ext_costA = np.zeros((vertices_number, 1))\n",
    "    int_costA = np.zeros((vertices_number, 1))\n",
    "    for i in A:.splitlines()\n",
    "#         print(' ')\n",
    "#         print('row', i )\n",
    "        for j in B:\n",
    "#             print('(i,j) = ', i , j )\n",
    "#             print('CM(i,j)= ', CM[i-1,j-1])\n",
    "            ext_costA[i-1] += CM[i-1,j-1]\n",
    "#         print(ext_costA[i-1])\n",
    "\n",
    "    for i in A:\n",
    "#         print(' ')\n",
    "#         print('row', i )\n",
    "        for j in A:\n",
    "            if i != j:\n",
    "#                 print('(i,j) = ', i , j )\n",
    "#                 print('CM(i,j)= ', CM[i-1,j-1])\n",
    "                int_costA[i-1] += CM[i-1,j-1] \n",
    "\n",
    "\n",
    "    ext_costB = np.zeros((vertices_number, 1))\n",
    "    int_costB = np.zeros((vertices_number, 1))\n",
    "    for i in B:\n",
    "#         print(' ')\n",
    "#         print('row', i )\n",
    "        for j in A:\n",
    "#             print('(i,j) = ', i , j )\n",
    "#             print('CM(i,j)= ', CM[i-1,j-1])\n",
    "            ext_costB[i-1] += CM[i-1,j-1]  \n",
    "\n",
    "    for i in B:\n",
    "#         print(' ')\n",
    "#         print('row', i )\n",
    "        for j in B:\n",
    "#             print(j < 1)\n",
    "            if j != i:\n",
    "#                 print('(i,j) = ', i , j )\n",
    "#                 print('CM(i,j)= ', CM[i-1,j-1])\n",
    "                int_costB[i-1] += CM[i-1,j-1] \n",
    "\n",
    "    ext_cost = ext_costA + ext_costB\n",
    "    int_cost = int_costA + int_costB\n",
    "\n",
    "    D =  ext_cost - int_cost\n",
    "       \n",
    "    return D"
   ]
  },
  {
   "cell_type": "code",
   "execution_count": 8,
   "metadata": {},
   "outputs": [],
   "source": [
    "def max_gain(A, B, D, CM):\n",
    "    maxGain = -sys.maxsize - 1\n",
    "    n1 = None\n",
    "    n2 = None\n",
    "    for i in A:\n",
    "        for j in B:\n",
    "            gain = D[i-1] + D[j-1] - 2 * CM[i-1,j-1]\n",
    "            gain = gain[0]\n",
    "            if gain > maxGain:\n",
    "                maxGain = gain\n",
    "                n1 = i\n",
    "                n2 = j\n",
    "    return n1, n2, maxGain"
   ]
  },
  {
   "cell_type": "code",
   "execution_count": 9,
   "metadata": {},
   "outputs": [],
   "source": [
    "def getMaxGainAndIndex(gains):\n",
    "    maxGain = -sys.maxsize - 1\n",
    "    index = 0\n",
    "    sum = 0\n",
    "\n",
    "    for i in gains:\n",
    "        sum += i\n",
    "        if sum > maxGain:\n",
    "            maxGain = sum\n",
    "            index = gains.index(i)\n",
    "    return maxGain, index"
   ]
  },
  {
   "cell_type": "code",
   "execution_count": 10,
   "metadata": {},
   "outputs": [],
   "source": [
    "def updateD(CM, A, B, D, n1, n2):\n",
    "    for i in A:\n",
    "        D[i-1] = D[i-1] + 2*CM[i-1,n1-1] - 2*CM[i-1,n2-1]\n",
    "    for i in B:\n",
    "        D[i-1] = D[i-1] + 2*CM[i-1,n2-1] - 2*CM[i-1,n1-1]\n",
    "    return D"
   ]
  },
  {
   "cell_type": "code",
   "execution_count": 11,
   "metadata": {},
   "outputs": [],
   "source": [
    "def switch(A, B, CM):\n",
    "    D = D_vector(A, B, CM)\n",
    "    gains = []\n",
    "    X = []\n",
    "    Y = []\n",
    "\n",
    "\n",
    "    for i in range( math.floor(len(CM) / 2) ):\n",
    "#         print(' ')\n",
    "#         print('-------------')\n",
    "#         print('iteration', i)\n",
    "\n",
    "        n1, n2, gain = max_gain(A, B, D, CM)  \n",
    "\n",
    "#         print('nodes to switch', n1, n2)\n",
    "        \n",
    "#         print(A)\n",
    "#         print(B)\n",
    "\n",
    "        A = A[A != n1]\n",
    "        B = B[B != n2]\n",
    "\n",
    "        gains.append(gain)\n",
    "\n",
    "        X.append(n1)\n",
    "        Y.append(n2)\n",
    "\n",
    "        D = updateD(CM, A, B, D, n1, n2)\n",
    "\n",
    "    maxGain, k = getMaxGainAndIndex(gains)\n",
    "    \n",
    "    #print('MAXGAIN', maxGain)\n",
    "\n",
    "    if maxGain > 0:\n",
    "        A = np.array(Y[:k + 1] + X[k + 1:])\n",
    "        B = np.array(X[:k + 1] + Y[k + 1:])\n",
    "        return A, B, False\n",
    "    else:\n",
    "        A = [i for i in X]\n",
    "        B = [i for i in Y]\n",
    "        return A, B, True"
   ]
  },
  {
   "cell_type": "markdown",
   "metadata": {},
   "source": [
    "# Run"
   ]
  },
  {
   "cell_type": "code",
   "execution_count": 13,
   "metadata": {
    "scrolled": true
   },
   "outputs": [
    {
     "name": "stdout",
     "output_type": "stream",
     "text": [
      "[10, 3, 6, 4, 2]\n",
      "[8, 1, 9, 7, 11]\n",
      "10 3 6 4 2\n"
     ]
    }
   ],
   "source": [
    "# vertices_number, edges_number, edges = read_graph(fileinput.input())\n",
    "\n",
    "vertices_number, edges_number, edges = read_graph(s)\n",
    "CM = connect_matrix(vertices_number, edges_number, edges)\n",
    "A, B = partition_init(vertices_number, edges_number, edges)\n",
    "\n",
    "done = False\n",
    "while not done:\n",
    "    A, B, done = switch(A, B, CM)\n",
    "\n",
    "# print(A)\n",
    "# print(B)\n",
    "\n",
    "print(*A)"
   ]
  }
 ],
 "metadata": {
  "kernelspec": {
   "display_name": "python3",
   "language": "python",
   "name": "python3"
  },
  "language_info": {
   "codemirror_mode": {
    "name": "ipython",
    "version": 3
   },
   "file_extension": ".py",
   "mimetype": "text/x-python",
   "name": "python",
   "nbconvert_exporter": "python",
   "pygments_lexer": "ipython3",
   "version": "3.8.5"
  }
 },
 "nbformat": 4,
 "nbformat_minor": 4
}
