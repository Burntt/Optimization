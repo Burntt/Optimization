{
 "cells": [
  {
   "cell_type": "code",
   "execution_count": 1,
   "metadata": {},
   "outputs": [],
   "source": [
    "from math import sin\n",
    "a = 2.\n",
    "b = 7.\n",
    "tol = 0.000001\n",
    "f = sin"
   ]
  },
  {
   "cell_type": "code",
   "execution_count": 2,
   "metadata": {},
   "outputs": [
    {
     "name": "stdout",
     "output_type": "stream",
     "text": [
      "4.712388980499355\n"
     ]
    }
   ],
   "source": [
    "def parabolic_func(a, b, c, fa, fb, fc):\n",
    "    \n",
    "    numerator = ( fa - fb )*( c - b )**2 - ( fc - fb )*( b - a )**2\n",
    "    denominator = ( fa - fb )*( c - b ) + ( fc - fb )*( b - a )\n",
    "    \n",
    "    x_min = b + (1/2)*(numerator/denominator)\n",
    "    \n",
    "    return x_min\n",
    "\n",
    "def parabolic_interpolation(a, b, f, tol):  \n",
    "    \n",
    "    c = (a+b)/2\n",
    "    fa = f(a)\n",
    "    fb = f(b)\n",
    "    fc = f(c)\n",
    "    \n",
    "    while abs(b - a) > tol:\n",
    "\n",
    "       # print('iteration')\n",
    "        \n",
    "        x_min = parabolic_func(a, b, c, fa, fb, fc)\n",
    "        fx_min = f(x_min) \n",
    "          \n",
    "        if x_min == c:\n",
    "            b = b + 0.01*(b-a)\n",
    "            fb = f(b)\n",
    "                        \n",
    "        elif x_min < c:\n",
    "            b = c\n",
    "            fb = fc\n",
    "            \n",
    "            c = x_min\n",
    "            fc = fx_min\n",
    "                        \n",
    "        elif x_min >= c:           \n",
    "            a = c\n",
    "            fa = fc  \n",
    " \n",
    "            c = x_min\n",
    "            fc = fx_min\n",
    "       \n",
    "      #  print( abs(b - a) )\n",
    "\n",
    "    return (a+b)/2\n",
    "\n",
    "x_min = parabolic_interpolation(a, b, f, tol)\n",
    "print(x_min)"
   ]
  }
 ],
 "metadata": {
  "kernelspec": {
   "display_name": "python3",
   "language": "python",
   "name": "python3"
  },
  "language_info": {
   "codemirror_mode": {
    "name": "ipython",
    "version": 3
   },
   "file_extension": ".py",
   "mimetype": "text/x-python",
   "name": "python",
   "nbconvert_exporter": "python",
   "pygments_lexer": "ipython3",
   "version": "3.8.5"
  }
 },
 "nbformat": 4,
 "nbformat_minor": 4
}
